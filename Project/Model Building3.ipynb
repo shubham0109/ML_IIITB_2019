{
 "cells": [
  {
   "cell_type": "code",
   "execution_count": 1,
   "metadata": {},
   "outputs": [],
   "source": [
    "import numpy as np\n",
    "import pandas as pd\n",
    "from datetime import datetime\n",
    "import calendar\n",
    "from datetime import timedelta\n",
    "import datetime as dt\n",
    "from sklearn.model_selection import train_test_split\n",
    "from sklearn.metrics import mean_squared_error\n",
    "from sklearn.linear_model import LinearRegression\n",
    "from sklearn.ensemble import RandomForestRegressor"
   ]
  },
  {
   "cell_type": "code",
   "execution_count": 2,
   "metadata": {},
   "outputs": [],
   "source": [
    "from datetime import datetime\n",
    "import calendar\n",
    "from datetime import timedelta\n",
    "import datetime as dt"
   ]
  },
  {
   "cell_type": "code",
   "execution_count": 4,
   "metadata": {},
   "outputs": [],
   "source": [
    "# train data consists of 55M rows, taking 400K rows initially\n",
    "train = pd.read_csv(\"./TrainTest/train.csv\", nrows = 400000)\n",
    "test = pd.read_csv(\"./TrainTest/test.csv\")"
   ]
  },
  {
   "cell_type": "code",
   "execution_count": 29,
   "metadata": {},
   "outputs": [
    {
     "name": "stdout",
     "output_type": "stream",
     "text": [
      "<class 'pandas.core.frame.DataFrame'>\n",
      "RangeIndex: 400000 entries, 0 to 399999\n",
      "Data columns (total 8 columns):\n",
      "key                  400000 non-null object\n",
      "fare_amount          400000 non-null float64\n",
      "pickup_datetime      400000 non-null object\n",
      "pickup_longitude     400000 non-null float64\n",
      "pickup_latitude      400000 non-null float64\n",
      "dropoff_longitude    399997 non-null float64\n",
      "dropoff_latitude     399997 non-null float64\n",
      "passenger_count      400000 non-null int64\n",
      "dtypes: float64(5), int64(1), object(2)\n",
      "memory usage: 24.4+ MB\n"
     ]
    }
   ],
   "source": [
    "train.info()"
   ]
  },
  {
   "cell_type": "code",
   "execution_count": 30,
   "metadata": {},
   "outputs": [
    {
     "name": "stdout",
     "output_type": "stream",
     "text": [
      "<class 'pandas.core.frame.DataFrame'>\n",
      "RangeIndex: 11084772 entries, 0 to 11084771\n",
      "Data columns (total 7 columns):\n",
      "key                  object\n",
      "pickup_datetime      object\n",
      "pickup_longitude     float64\n",
      "pickup_latitude      float64\n",
      "dropoff_longitude    float64\n",
      "dropoff_latitude     float64\n",
      "passenger_count      int64\n",
      "dtypes: float64(4), int64(1), object(2)\n",
      "memory usage: 592.0+ MB\n"
     ]
    }
   ],
   "source": [
    "test.head()\n",
    "test.info()"
   ]
  },
  {
   "cell_type": "code",
   "execution_count": 31,
   "metadata": {},
   "outputs": [],
   "source": [
    "# change the format of datetime\n",
    "def change_datetime_format(data):\n",
    "    data['pickup_datetime']=pd.to_datetime(data['pickup_datetime'],format='%Y-%m-%d %H:%M:%S UTC')\n",
    "    return data"
   ]
  },
  {
   "cell_type": "code",
   "execution_count": 32,
   "metadata": {},
   "outputs": [],
   "source": [
    "# split the datetime\n",
    "def split_datetime(data):\n",
    "    data['pickup_date']= data['pickup_datetime'].dt.date\n",
    "    data['pickup_day']=data['pickup_datetime'].apply(lambda x:x.day)\n",
    "    data['pickup_hour']=data['pickup_datetime'].apply(lambda x:x.hour)\n",
    "    data['pickup_day_of_week']=data['pickup_datetime'].apply(lambda x:calendar.day_name[x.weekday()])\n",
    "    data['pickup_month']=data['pickup_datetime'].apply(lambda x:x.month)\n",
    "    data['pickup_year']=data['pickup_datetime'].apply(lambda x:x.year)\n",
    "    return data"
   ]
  },
  {
   "cell_type": "code",
   "execution_count": 33,
   "metadata": {},
   "outputs": [],
   "source": [
    "# removing outliers in latitude and longitude\n",
    "def remove_outliers(data):\n",
    "    \n",
    "    misplaced_locations_index = []\n",
    "\n",
    "    for i, val in enumerate(zip(data.pickup_latitude,data.dropoff_latitude,data.pickup_longitude,data.dropoff_longitude)):\n",
    "\n",
    "        #print(val)\n",
    "        #break\n",
    "\n",
    "        lat1,lat2,lon1,lon2 = val\n",
    "        #co_ords1 = (lat1, lon1)\n",
    "        #co_ords2 = (lat2, lon2)\n",
    "\n",
    "        if lat1 < 40.5 or lat1 > 41.8 or lat2 < 40.5 or lat2 > 41.8 or lon1 < -74.5 or lon1 > -72.8 or lon2 < -74.5 or lon2 > -72.8:\n",
    "            misplaced_locations_index.append(i)\n",
    "\n",
    "\n",
    "    data = data.drop(misplaced_locations_index)\n",
    "    return data"
   ]
  },
  {
   "cell_type": "code",
   "execution_count": 34,
   "metadata": {},
   "outputs": [],
   "source": [
    "def remove_null(data):\n",
    "    data = data.dropna()\n",
    "    return data"
   ]
  },
  {
   "cell_type": "code",
   "execution_count": 35,
   "metadata": {},
   "outputs": [],
   "source": [
    "def remove_neg_pass_count(data):\n",
    "    data = data.drop(data[data['passenger_count'] <= 0].index.tolist())\n",
    "    return data"
   ]
  },
  {
   "cell_type": "code",
   "execution_count": 36,
   "metadata": {},
   "outputs": [],
   "source": [
    "def remove_neg_fare_amount(data):\n",
    "    data = data.drop(data[data['fare_amount'] <= 0].index.tolist())\n",
    "    return data"
   ]
  },
  {
   "cell_type": "code",
   "execution_count": 37,
   "metadata": {},
   "outputs": [],
   "source": [
    "#calculate trip distance in miles\n",
    "def distance(lat1, lat2, lon1,lon2):\n",
    "    p = 0.017453292519943295 # Pi/180\n",
    "    a = 0.5 - np.cos((lat2 - lat1) * p)/2 + np.cos(lat1 * p) * np.cos(lat2 * p) * (1 - np.cos((lon2 - lon1) * p)) / 2\n",
    "    return 0.6213712 * 12742 * np.arcsin(np.sqrt(a))"
   ]
  },
  {
   "cell_type": "code",
   "execution_count": 38,
   "metadata": {},
   "outputs": [],
   "source": [
    "def calc_distance(data):\n",
    "    data['trip_distance']=data.apply(lambda row:distance(row['pickup_latitude'],row['dropoff_latitude'],row['pickup_longitude'],row['dropoff_longitude']),axis=1)\n",
    "    return data"
   ]
  },
  {
   "cell_type": "code",
   "execution_count": 39,
   "metadata": {},
   "outputs": [],
   "source": [
    "# Let us encode day of the week to numbers\n",
    "def encodeDays(day_of_week):\n",
    "    day_dict={'Sunday':0,'Monday':1,'Tuesday':2,'Wednesday':3,'Thursday':4,'Friday':5,'Saturday':6}\n",
    "    return day_dict[day_of_week]"
   ]
  },
  {
   "cell_type": "code",
   "execution_count": 40,
   "metadata": {},
   "outputs": [],
   "source": [
    "def pickupday_encode(data):\n",
    "    data['pickup_day_of_week']=data['pickup_day_of_week'].apply(lambda x:encodeDays(x))\n",
    "    return data"
   ]
  },
  {
   "cell_type": "code",
   "execution_count": 41,
   "metadata": {},
   "outputs": [],
   "source": [
    "def drop_columns(data):\n",
    "    data.drop(columns=['key','pickup_datetime','pickup_date'], inplace=True)\n",
    "    return data"
   ]
  },
  {
   "cell_type": "code",
   "execution_count": 42,
   "metadata": {},
   "outputs": [],
   "source": [
    "# clean the data\n",
    "def cleandata(data):\n",
    "    data = change_datetime_format(data)\n",
    "    data = split_datetime(data)\n",
    "    data = remove_outliers(data)\n",
    "    data = remove_null(data)\n",
    "    data = remove_neg_pass_count(data)\n",
    "    data = remove_neg_fare_amount(data)\n",
    "    data = calc_distance(data)\n",
    "    data = pickupday_encode(data)\n",
    "    data = drop_columns(data)\n",
    "    \n",
    "    return data"
   ]
  },
  {
   "cell_type": "code",
   "execution_count": 43,
   "metadata": {},
   "outputs": [],
   "source": [
    "train = cleandata(train)"
   ]
  },
  {
   "cell_type": "code",
   "execution_count": 44,
   "metadata": {},
   "outputs": [
    {
     "data": {
      "text/html": [
       "<div>\n",
       "<style scoped>\n",
       "    .dataframe tbody tr th:only-of-type {\n",
       "        vertical-align: middle;\n",
       "    }\n",
       "\n",
       "    .dataframe tbody tr th {\n",
       "        vertical-align: top;\n",
       "    }\n",
       "\n",
       "    .dataframe thead th {\n",
       "        text-align: right;\n",
       "    }\n",
       "</style>\n",
       "<table border=\"1\" class=\"dataframe\">\n",
       "  <thead>\n",
       "    <tr style=\"text-align: right;\">\n",
       "      <th></th>\n",
       "      <th>fare_amount</th>\n",
       "      <th>pickup_longitude</th>\n",
       "      <th>pickup_latitude</th>\n",
       "      <th>dropoff_longitude</th>\n",
       "      <th>dropoff_latitude</th>\n",
       "      <th>passenger_count</th>\n",
       "      <th>pickup_day</th>\n",
       "      <th>pickup_hour</th>\n",
       "      <th>pickup_day_of_week</th>\n",
       "      <th>pickup_month</th>\n",
       "      <th>pickup_year</th>\n",
       "      <th>trip_distance</th>\n",
       "    </tr>\n",
       "  </thead>\n",
       "  <tbody>\n",
       "    <tr>\n",
       "      <th>0</th>\n",
       "      <td>4.5</td>\n",
       "      <td>-73.986910</td>\n",
       "      <td>40.739538</td>\n",
       "      <td>-73.991381</td>\n",
       "      <td>40.745614</td>\n",
       "      <td>2</td>\n",
       "      <td>20</td>\n",
       "      <td>23</td>\n",
       "      <td>3</td>\n",
       "      <td>10</td>\n",
       "      <td>2010</td>\n",
       "      <td>0.480646</td>\n",
       "    </tr>\n",
       "    <tr>\n",
       "      <th>1</th>\n",
       "      <td>4.1</td>\n",
       "      <td>-73.961572</td>\n",
       "      <td>40.760283</td>\n",
       "      <td>-73.957438</td>\n",
       "      <td>40.769387</td>\n",
       "      <td>5</td>\n",
       "      <td>30</td>\n",
       "      <td>10</td>\n",
       "      <td>3</td>\n",
       "      <td>12</td>\n",
       "      <td>2009</td>\n",
       "      <td>0.665188</td>\n",
       "    </tr>\n",
       "    <tr>\n",
       "      <th>2</th>\n",
       "      <td>6.1</td>\n",
       "      <td>-73.979437</td>\n",
       "      <td>40.746517</td>\n",
       "      <td>-73.984195</td>\n",
       "      <td>40.732117</td>\n",
       "      <td>1</td>\n",
       "      <td>20</td>\n",
       "      <td>11</td>\n",
       "      <td>5</td>\n",
       "      <td>7</td>\n",
       "      <td>2012</td>\n",
       "      <td>1.025650</td>\n",
       "    </tr>\n",
       "    <tr>\n",
       "      <th>3</th>\n",
       "      <td>4.9</td>\n",
       "      <td>-73.964097</td>\n",
       "      <td>40.792508</td>\n",
       "      <td>-73.976422</td>\n",
       "      <td>40.785767</td>\n",
       "      <td>1</td>\n",
       "      <td>31</td>\n",
       "      <td>11</td>\n",
       "      <td>2</td>\n",
       "      <td>5</td>\n",
       "      <td>2011</td>\n",
       "      <td>0.795377</td>\n",
       "    </tr>\n",
       "    <tr>\n",
       "      <th>4</th>\n",
       "      <td>6.5</td>\n",
       "      <td>-74.003943</td>\n",
       "      <td>40.725670</td>\n",
       "      <td>-73.988915</td>\n",
       "      <td>40.748370</td>\n",
       "      <td>1</td>\n",
       "      <td>25</td>\n",
       "      <td>17</td>\n",
       "      <td>2</td>\n",
       "      <td>5</td>\n",
       "      <td>2010</td>\n",
       "      <td>1.754687</td>\n",
       "    </tr>\n",
       "  </tbody>\n",
       "</table>\n",
       "</div>"
      ],
      "text/plain": [
       "   fare_amount  pickup_longitude  pickup_latitude  dropoff_longitude  \\\n",
       "0          4.5        -73.986910        40.739538         -73.991381   \n",
       "1          4.1        -73.961572        40.760283         -73.957438   \n",
       "2          6.1        -73.979437        40.746517         -73.984195   \n",
       "3          4.9        -73.964097        40.792508         -73.976422   \n",
       "4          6.5        -74.003943        40.725670         -73.988915   \n",
       "\n",
       "   dropoff_latitude  passenger_count  pickup_day  pickup_hour  \\\n",
       "0         40.745614                2          20           23   \n",
       "1         40.769387                5          30           10   \n",
       "2         40.732117                1          20           11   \n",
       "3         40.785767                1          31           11   \n",
       "4         40.748370                1          25           17   \n",
       "\n",
       "   pickup_day_of_week  pickup_month  pickup_year  trip_distance  \n",
       "0                   3            10         2010       0.480646  \n",
       "1                   3            12         2009       0.665188  \n",
       "2                   5             7         2012       1.025650  \n",
       "3                   2             5         2011       0.795377  \n",
       "4                   2             5         2010       1.754687  "
      ]
     },
     "execution_count": 44,
     "metadata": {},
     "output_type": "execute_result"
    }
   ],
   "source": [
    "train.head()"
   ]
  },
  {
   "cell_type": "raw",
   "metadata": {},
   "source": []
  },
  {
   "cell_type": "code",
   "execution_count": 25,
   "metadata": {},
   "outputs": [
    {
     "name": "stdout",
     "output_type": "stream",
     "text": [
      "<class 'pandas.core.frame.DataFrame'>\n",
      "Int64Index: 390181 entries, 0 to 399999\n",
      "Data columns (total 12 columns):\n",
      "fare_amount           390181 non-null float64\n",
      "pickup_longitude      390181 non-null float64\n",
      "pickup_latitude       390181 non-null float64\n",
      "dropoff_longitude     390181 non-null float64\n",
      "dropoff_latitude      390181 non-null float64\n",
      "passenger_count       390181 non-null int64\n",
      "pickup_day            390181 non-null int64\n",
      "pickup_hour           390181 non-null int64\n",
      "pickup_day_of_week    390181 non-null int64\n",
      "pickup_month          390181 non-null int64\n",
      "pickup_year           390181 non-null int64\n",
      "trip_distance         390181 non-null float64\n",
      "dtypes: float64(6), int64(6)\n",
      "memory usage: 38.7 MB\n"
     ]
    }
   ],
   "source": [
    "train.info()"
   ]
  },
  {
   "cell_type": "code",
   "execution_count": null,
   "metadata": {},
   "outputs": [],
   "source": [
    "#test = cleandata(test)"
   ]
  },
  {
   "cell_type": "code",
   "execution_count": 26,
   "metadata": {},
   "outputs": [
    {
     "name": "stdout",
     "output_type": "stream",
     "text": [
      "<class 'pandas.core.frame.DataFrame'>\n",
      "RangeIndex: 11084772 entries, 0 to 11084771\n",
      "Data columns (total 7 columns):\n",
      "key                  object\n",
      "pickup_datetime      object\n",
      "pickup_longitude     float64\n",
      "pickup_latitude      float64\n",
      "dropoff_longitude    float64\n",
      "dropoff_latitude     float64\n",
      "passenger_count      int64\n",
      "dtypes: float64(4), int64(1), object(2)\n",
      "memory usage: 592.0+ MB\n"
     ]
    }
   ],
   "source": [
    "test.info()\n"
   ]
  },
  {
   "cell_type": "code",
   "execution_count": 27,
   "metadata": {},
   "outputs": [],
   "source": [
    "def processDataForModelling(data,target,is_train=True,split=0.3):\n",
    "    data_1=data\n",
    "    # One hot Encoding\n",
    "    data_1=pd.get_dummies(data_1)\n",
    "    if is_train==True:\n",
    "        X=data_1.drop([target],axis=1)\n",
    "        y=data_1[target]\n",
    "        X_train, X_test, y_train, y_test = train_test_split(X,y, test_size=split,random_state=123)\n",
    "        \n",
    "        print(\"Shape of Training Features\",X_train.shape)\n",
    "        print(\"Shape of Validation Features \",X_test.shape)\n",
    "        \n",
    "        return X_train, X_test, y_train, y_test\n",
    "    else:\n",
    "        print (\"Shape of Test Data\",data_1.shape)\n",
    "        return data_1"
   ]
  },
  {
   "cell_type": "code",
   "execution_count": 28,
   "metadata": {},
   "outputs": [
    {
     "name": "stdout",
     "output_type": "stream",
     "text": [
      "Shape of Training Features (312144, 11)\n",
      "Shape of Validation Features  (78037, 11)\n"
     ]
    }
   ],
   "source": [
    "X_train, X_test, y_train, y_test=processDataForModelling(train,'fare_amount',is_train=True,split=0.2)"
   ]
  },
  {
   "cell_type": "code",
   "execution_count": 17,
   "metadata": {},
   "outputs": [],
   "source": [
    "avg_fare=round(np.mean(y_train),2)\n",
    "avg_fare"
   ]
  },
  {
   "cell_type": "code",
   "execution_count": 30,
   "metadata": {},
   "outputs": [
    {
     "name": "stdout",
     "output_type": "stream",
     "text": [
      "Basline RMSE of Validation data : 9.762140179591256\n"
     ]
    }
   ],
   "source": [
    "# Baseline Model\n",
    "baseline_pred=np.repeat(avg_fare,test.shape[0])\n",
    "baseline_rmse=np.sqrt(mean_squared_error(baseline_pred, y_test))\n",
    "print(\"Basline RMSE of Validation data :\",baseline_rmse)"
   ]
  },
  {
   "cell_type": "code",
   "execution_count": 19,
   "metadata": {},
   "outputs": [],
   "source": [
    "# Baseline Model\n",
    "baseline_pred=np.repeat(avg_fare,test.shape[0])\n",
    "#baseline_rmse=np.sqrt(mean_squared_error(baseline_pred, test))\n",
    "#print(\"Basline RMSE of Validation data :\",baseline_rmse)"
   ]
  },
  {
   "cell_type": "code",
   "execution_count": 21,
   "metadata": {},
   "outputs": [],
   "source": [
    "p = pd.DataFrame(baseline_pred)\n",
    "datasets = pd.concat([test['key'],p[0]],axis=1)\n",
    "datasets.columns = ['key', 'fare_amount']\n",
    "datasets.to_csv('submission1.csv',index = False)"
   ]
  },
  {
   "cell_type": "code",
   "execution_count": 22,
   "metadata": {},
   "outputs": [],
   "source": [
    "d1  = pd.read_csv('submission1.csv')"
   ]
  },
  {
   "cell_type": "code",
   "execution_count": 23,
   "metadata": {},
   "outputs": [
    {
     "data": {
      "text/plain": [
       "(11084772, 2)"
      ]
     },
     "execution_count": 23,
     "metadata": {},
     "output_type": "execute_result"
    }
   ],
   "source": [
    "d1.shape"
   ]
  },
  {
   "cell_type": "code",
   "execution_count": 24,
   "metadata": {},
   "outputs": [
    {
     "data": {
      "text/plain": [
       "0"
      ]
     },
     "execution_count": 24,
     "metadata": {},
     "output_type": "execute_result"
    }
   ],
   "source": [
    "d1['fare_amount'].isnull().sum()"
   ]
  },
  {
   "cell_type": "code",
   "execution_count": 9,
   "metadata": {},
   "outputs": [
    {
     "name": "stdout",
     "output_type": "stream",
     "text": [
      "Column name is: fare_amount\n",
      "11006735\n"
     ]
    }
   ],
   "source": [
    "cols = d1.columns\n",
    "\n",
    "for i in cols:\n",
    "    if d1[i].isnull().sum() != 0:\n",
    "        print(\"Column name is:\", i)\n",
    "        print(d1[i].isnull().sum())"
   ]
  },
  {
   "cell_type": "code",
   "execution_count": 25,
   "metadata": {},
   "outputs": [
    {
     "data": {
      "text/plain": [
       "11084772"
      ]
     },
     "execution_count": 25,
     "metadata": {},
     "output_type": "execute_result"
    }
   ],
   "source": [
    "d1.shape[0] - d1[i].isnull().sum()"
   ]
  },
  {
   "cell_type": "code",
   "execution_count": 13,
   "metadata": {},
   "outputs": [
    {
     "data": {
      "text/html": [
       "<div>\n",
       "<style scoped>\n",
       "    .dataframe tbody tr th:only-of-type {\n",
       "        vertical-align: middle;\n",
       "    }\n",
       "\n",
       "    .dataframe tbody tr th {\n",
       "        vertical-align: top;\n",
       "    }\n",
       "\n",
       "    .dataframe thead th {\n",
       "        text-align: right;\n",
       "    }\n",
       "</style>\n",
       "<table border=\"1\" class=\"dataframe\">\n",
       "  <thead>\n",
       "    <tr style=\"text-align: right;\">\n",
       "      <th></th>\n",
       "      <th>pickup_longitude</th>\n",
       "      <th>pickup_latitude</th>\n",
       "      <th>dropoff_longitude</th>\n",
       "      <th>dropoff_latitude</th>\n",
       "      <th>passenger_count</th>\n",
       "    </tr>\n",
       "  </thead>\n",
       "  <tbody>\n",
       "    <tr>\n",
       "      <th>count</th>\n",
       "      <td>1.108477e+07</td>\n",
       "      <td>1.108477e+07</td>\n",
       "      <td>1.108469e+07</td>\n",
       "      <td>1.108469e+07</td>\n",
       "      <td>1.108477e+07</td>\n",
       "    </tr>\n",
       "    <tr>\n",
       "      <th>mean</th>\n",
       "      <td>-7.250765e+01</td>\n",
       "      <td>3.991602e+01</td>\n",
       "      <td>-7.251082e+01</td>\n",
       "      <td>3.992153e+01</td>\n",
       "      <td>1.685516e+00</td>\n",
       "    </tr>\n",
       "    <tr>\n",
       "      <th>std</th>\n",
       "      <td>1.313703e+01</td>\n",
       "      <td>9.638166e+00</td>\n",
       "      <td>1.298226e+01</td>\n",
       "      <td>1.004393e+01</td>\n",
       "      <td>1.322056e+00</td>\n",
       "    </tr>\n",
       "    <tr>\n",
       "      <th>min</th>\n",
       "      <td>-3.414133e+03</td>\n",
       "      <td>-3.488080e+03</td>\n",
       "      <td>-3.442025e+03</td>\n",
       "      <td>-3.488080e+03</td>\n",
       "      <td>0.000000e+00</td>\n",
       "    </tr>\n",
       "    <tr>\n",
       "      <th>25%</th>\n",
       "      <td>-7.399206e+01</td>\n",
       "      <td>4.073493e+01</td>\n",
       "      <td>-7.399140e+01</td>\n",
       "      <td>4.073404e+01</td>\n",
       "      <td>1.000000e+00</td>\n",
       "    </tr>\n",
       "    <tr>\n",
       "      <th>50%</th>\n",
       "      <td>-7.398180e+01</td>\n",
       "      <td>4.075265e+01</td>\n",
       "      <td>-7.398016e+01</td>\n",
       "      <td>4.075316e+01</td>\n",
       "      <td>1.000000e+00</td>\n",
       "    </tr>\n",
       "    <tr>\n",
       "      <th>75%</th>\n",
       "      <td>-7.396705e+01</td>\n",
       "      <td>4.076713e+01</td>\n",
       "      <td>-7.396368e+01</td>\n",
       "      <td>4.076809e+01</td>\n",
       "      <td>2.000000e+00</td>\n",
       "    </tr>\n",
       "    <tr>\n",
       "      <th>max</th>\n",
       "      <td>3.456138e+03</td>\n",
       "      <td>3.378013e+03</td>\n",
       "      <td>3.453425e+03</td>\n",
       "      <td>3.390614e+03</td>\n",
       "      <td>2.080000e+02</td>\n",
       "    </tr>\n",
       "  </tbody>\n",
       "</table>\n",
       "</div>"
      ],
      "text/plain": [
       "       pickup_longitude  pickup_latitude  dropoff_longitude  dropoff_latitude  \\\n",
       "count      1.108477e+07     1.108477e+07       1.108469e+07      1.108469e+07   \n",
       "mean      -7.250765e+01     3.991602e+01      -7.251082e+01      3.992153e+01   \n",
       "std        1.313703e+01     9.638166e+00       1.298226e+01      1.004393e+01   \n",
       "min       -3.414133e+03    -3.488080e+03      -3.442025e+03     -3.488080e+03   \n",
       "25%       -7.399206e+01     4.073493e+01      -7.399140e+01      4.073404e+01   \n",
       "50%       -7.398180e+01     4.075265e+01      -7.398016e+01      4.075316e+01   \n",
       "75%       -7.396705e+01     4.076713e+01      -7.396368e+01      4.076809e+01   \n",
       "max        3.456138e+03     3.378013e+03       3.453425e+03      3.390614e+03   \n",
       "\n",
       "       passenger_count  \n",
       "count     1.108477e+07  \n",
       "mean      1.685516e+00  \n",
       "std       1.322056e+00  \n",
       "min       0.000000e+00  \n",
       "25%       1.000000e+00  \n",
       "50%       1.000000e+00  \n",
       "75%       2.000000e+00  \n",
       "max       2.080000e+02  "
      ]
     },
     "execution_count": 13,
     "metadata": {},
     "output_type": "execute_result"
    }
   ],
   "source": [
    "test.describe()"
   ]
  },
  {
   "cell_type": "code",
   "execution_count": 15,
   "metadata": {},
   "outputs": [
    {
     "data": {
      "text/plain": [
       "0"
      ]
     },
     "execution_count": 15,
     "metadata": {},
     "output_type": "execute_result"
    }
   ],
   "source": [
    "test['key'].isnull().sum()"
   ]
  },
  {
   "cell_type": "code",
   "execution_count": null,
   "metadata": {},
   "outputs": [],
   "source": []
  }
 ],
 "metadata": {
  "kernelspec": {
   "display_name": "Python 3",
   "language": "python",
   "name": "python3"
  },
  "language_info": {
   "codemirror_mode": {
    "name": "ipython",
    "version": 3
   },
   "file_extension": ".py",
   "mimetype": "text/x-python",
   "name": "python",
   "nbconvert_exporter": "python",
   "pygments_lexer": "ipython3",
   "version": "3.7.3"
  }
 },
 "nbformat": 4,
 "nbformat_minor": 2
}
