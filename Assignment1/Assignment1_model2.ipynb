{
 "cells": [
  {
   "cell_type": "code",
   "execution_count": 352,
   "metadata": {},
   "outputs": [],
   "source": [
    "import numpy as np\n",
    "import pandas as pd\n",
    "import matplotlib as mp\n",
    "import seaborn as sns\n",
    "import sklearn\n",
    "import matplotlib.pyplot as plt\n",
    "sns.set_style(\"whitegrid\")\n",
    "\n",
    "%matplotlib inline"
   ]
  },
  {
   "cell_type": "code",
   "execution_count": 353,
   "metadata": {},
   "outputs": [],
   "source": [
    "## Read the csv file\n",
    "\n",
    "df = pd.read_csv(\"Pima_Indian_diabetes.csv\") "
   ]
  },
  {
   "cell_type": "code",
   "execution_count": 354,
   "metadata": {},
   "outputs": [
    {
     "data": {
      "text/html": [
       "<div>\n",
       "<style scoped>\n",
       "    .dataframe tbody tr th:only-of-type {\n",
       "        vertical-align: middle;\n",
       "    }\n",
       "\n",
       "    .dataframe tbody tr th {\n",
       "        vertical-align: top;\n",
       "    }\n",
       "\n",
       "    .dataframe thead th {\n",
       "        text-align: right;\n",
       "    }\n",
       "</style>\n",
       "<table border=\"1\" class=\"dataframe\">\n",
       "  <thead>\n",
       "    <tr style=\"text-align: right;\">\n",
       "      <th></th>\n",
       "      <th>Pregnancies</th>\n",
       "      <th>Glucose</th>\n",
       "      <th>BloodPressure</th>\n",
       "      <th>SkinThickness</th>\n",
       "      <th>Insulin</th>\n",
       "      <th>BMI</th>\n",
       "      <th>DiabetesPedigreeFunction</th>\n",
       "      <th>Age</th>\n",
       "      <th>Outcome</th>\n",
       "    </tr>\n",
       "  </thead>\n",
       "  <tbody>\n",
       "    <tr>\n",
       "      <th>count</th>\n",
       "      <td>742.000000</td>\n",
       "      <td>752.000000</td>\n",
       "      <td>768.000000</td>\n",
       "      <td>746.000000</td>\n",
       "      <td>768.000000</td>\n",
       "      <td>757.000000</td>\n",
       "      <td>768.000000</td>\n",
       "      <td>749.000000</td>\n",
       "      <td>768.000000</td>\n",
       "    </tr>\n",
       "    <tr>\n",
       "      <th>mean</th>\n",
       "      <td>3.866601</td>\n",
       "      <td>119.966097</td>\n",
       "      <td>68.886078</td>\n",
       "      <td>20.309879</td>\n",
       "      <td>79.799479</td>\n",
       "      <td>31.711151</td>\n",
       "      <td>0.471876</td>\n",
       "      <td>33.761336</td>\n",
       "      <td>0.348958</td>\n",
       "    </tr>\n",
       "    <tr>\n",
       "      <th>std</th>\n",
       "      <td>3.479971</td>\n",
       "      <td>32.367659</td>\n",
       "      <td>19.427448</td>\n",
       "      <td>15.974523</td>\n",
       "      <td>115.244002</td>\n",
       "      <td>8.544789</td>\n",
       "      <td>0.331329</td>\n",
       "      <td>12.297409</td>\n",
       "      <td>0.476951</td>\n",
       "    </tr>\n",
       "    <tr>\n",
       "      <th>min</th>\n",
       "      <td>-5.412815</td>\n",
       "      <td>0.000000</td>\n",
       "      <td>-3.496455</td>\n",
       "      <td>-11.945520</td>\n",
       "      <td>0.000000</td>\n",
       "      <td>-16.288921</td>\n",
       "      <td>0.078000</td>\n",
       "      <td>21.000000</td>\n",
       "      <td>0.000000</td>\n",
       "    </tr>\n",
       "    <tr>\n",
       "      <th>25%</th>\n",
       "      <td>1.000000</td>\n",
       "      <td>99.000000</td>\n",
       "      <td>62.000000</td>\n",
       "      <td>0.000000</td>\n",
       "      <td>0.000000</td>\n",
       "      <td>27.100000</td>\n",
       "      <td>0.243750</td>\n",
       "      <td>24.000000</td>\n",
       "      <td>0.000000</td>\n",
       "    </tr>\n",
       "    <tr>\n",
       "      <th>50%</th>\n",
       "      <td>3.000000</td>\n",
       "      <td>116.000000</td>\n",
       "      <td>72.000000</td>\n",
       "      <td>23.000000</td>\n",
       "      <td>30.500000</td>\n",
       "      <td>32.000000</td>\n",
       "      <td>0.372500</td>\n",
       "      <td>29.000000</td>\n",
       "      <td>0.000000</td>\n",
       "    </tr>\n",
       "    <tr>\n",
       "      <th>75%</th>\n",
       "      <td>6.000000</td>\n",
       "      <td>140.000000</td>\n",
       "      <td>80.000000</td>\n",
       "      <td>32.000000</td>\n",
       "      <td>127.250000</td>\n",
       "      <td>36.500000</td>\n",
       "      <td>0.626250</td>\n",
       "      <td>41.000000</td>\n",
       "      <td>1.000000</td>\n",
       "    </tr>\n",
       "    <tr>\n",
       "      <th>max</th>\n",
       "      <td>17.000000</td>\n",
       "      <td>199.000000</td>\n",
       "      <td>122.000000</td>\n",
       "      <td>99.000000</td>\n",
       "      <td>846.000000</td>\n",
       "      <td>67.100000</td>\n",
       "      <td>2.420000</td>\n",
       "      <td>81.000000</td>\n",
       "      <td>1.000000</td>\n",
       "    </tr>\n",
       "  </tbody>\n",
       "</table>\n",
       "</div>"
      ],
      "text/plain": [
       "       Pregnancies     Glucose  BloodPressure  SkinThickness     Insulin  \\\n",
       "count   742.000000  752.000000     768.000000     746.000000  768.000000   \n",
       "mean      3.866601  119.966097      68.886078      20.309879   79.799479   \n",
       "std       3.479971   32.367659      19.427448      15.974523  115.244002   \n",
       "min      -5.412815    0.000000      -3.496455     -11.945520    0.000000   \n",
       "25%       1.000000   99.000000      62.000000       0.000000    0.000000   \n",
       "50%       3.000000  116.000000      72.000000      23.000000   30.500000   \n",
       "75%       6.000000  140.000000      80.000000      32.000000  127.250000   \n",
       "max      17.000000  199.000000     122.000000      99.000000  846.000000   \n",
       "\n",
       "              BMI  DiabetesPedigreeFunction         Age     Outcome  \n",
       "count  757.000000                768.000000  749.000000  768.000000  \n",
       "mean    31.711151                  0.471876   33.761336    0.348958  \n",
       "std      8.544789                  0.331329   12.297409    0.476951  \n",
       "min    -16.288921                  0.078000   21.000000    0.000000  \n",
       "25%     27.100000                  0.243750   24.000000    0.000000  \n",
       "50%     32.000000                  0.372500   29.000000    0.000000  \n",
       "75%     36.500000                  0.626250   41.000000    1.000000  \n",
       "max     67.100000                  2.420000   81.000000    1.000000  "
      ]
     },
     "execution_count": 354,
     "metadata": {},
     "output_type": "execute_result"
    }
   ],
   "source": [
    "## Describe the dataset\n",
    "\n",
    "df.describe()"
   ]
  },
  {
   "cell_type": "code",
   "execution_count": 331,
   "metadata": {},
   "outputs": [
    {
     "name": "stdout",
     "output_type": "stream",
     "text": [
      "Outcome\n",
      "0     8\n",
      "1    11\n",
      "Name: BloodPressure, dtype: int64\n"
     ]
    }
   ],
   "source": [
    "print(df[df.Age.isnull() == True].groupby('Outcome')['BloodPressure'].count())"
   ]
  },
  {
   "cell_type": "code",
   "execution_count": 332,
   "metadata": {},
   "outputs": [
    {
     "data": {
      "text/plain": [
       "19"
      ]
     },
     "execution_count": 332,
     "metadata": {},
     "output_type": "execute_result"
    }
   ],
   "source": [
    "df.Age.isnull().sum()"
   ]
  },
  {
   "cell_type": "code",
   "execution_count": 333,
   "metadata": {},
   "outputs": [
    {
     "data": {
      "text/plain": [
       "11"
      ]
     },
     "execution_count": 333,
     "metadata": {},
     "output_type": "execute_result"
    }
   ],
   "source": [
    "df.BMI.isnull().sum()"
   ]
  },
  {
   "cell_type": "code",
   "execution_count": 355,
   "metadata": {},
   "outputs": [
    {
     "data": {
      "text/html": [
       "<style  type=\"text/css\" >\n",
       "    #T_5f380f16_d7ad_11e9_bc6d_092c9c21fc0frow0_col0 {\n",
       "            background-color:  #b40426;\n",
       "            color:  #f1f1f1;\n",
       "        }    #T_5f380f16_d7ad_11e9_bc6d_092c9c21fc0frow0_col1 {\n",
       "            background-color:  #3f53c6;\n",
       "            color:  #f1f1f1;\n",
       "        }    #T_5f380f16_d7ad_11e9_bc6d_092c9c21fc0frow0_col2 {\n",
       "            background-color:  #5470de;\n",
       "            color:  #000000;\n",
       "        }    #T_5f380f16_d7ad_11e9_bc6d_092c9c21fc0frow0_col3 {\n",
       "            background-color:  #4257c9;\n",
       "            color:  #f1f1f1;\n",
       "        }    #T_5f380f16_d7ad_11e9_bc6d_092c9c21fc0frow0_col4 {\n",
       "            background-color:  #3b4cc0;\n",
       "            color:  #f1f1f1;\n",
       "        }    #T_5f380f16_d7ad_11e9_bc6d_092c9c21fc0frow0_col5 {\n",
       "            background-color:  #3b4cc0;\n",
       "            color:  #f1f1f1;\n",
       "        }    #T_5f380f16_d7ad_11e9_bc6d_092c9c21fc0frow0_col6 {\n",
       "            background-color:  #3b4cc0;\n",
       "            color:  #f1f1f1;\n",
       "        }    #T_5f380f16_d7ad_11e9_bc6d_092c9c21fc0frow0_col7 {\n",
       "            background-color:  #e2dad5;\n",
       "            color:  #000000;\n",
       "        }    #T_5f380f16_d7ad_11e9_bc6d_092c9c21fc0frow0_col8 {\n",
       "            background-color:  #6687ed;\n",
       "            color:  #000000;\n",
       "        }    #T_5f380f16_d7ad_11e9_bc6d_092c9c21fc0frow1_col0 {\n",
       "            background-color:  #7093f3;\n",
       "            color:  #000000;\n",
       "        }    #T_5f380f16_d7ad_11e9_bc6d_092c9c21fc0frow1_col1 {\n",
       "            background-color:  #b40426;\n",
       "            color:  #f1f1f1;\n",
       "        }    #T_5f380f16_d7ad_11e9_bc6d_092c9c21fc0frow1_col2 {\n",
       "            background-color:  #5a78e4;\n",
       "            color:  #000000;\n",
       "        }    #T_5f380f16_d7ad_11e9_bc6d_092c9c21fc0frow1_col3 {\n",
       "            background-color:  #7396f5;\n",
       "            color:  #000000;\n",
       "        }    #T_5f380f16_d7ad_11e9_bc6d_092c9c21fc0frow1_col4 {\n",
       "            background-color:  #bcd2f7;\n",
       "            color:  #000000;\n",
       "        }    #T_5f380f16_d7ad_11e9_bc6d_092c9c21fc0frow1_col5 {\n",
       "            background-color:  #799cf8;\n",
       "            color:  #000000;\n",
       "        }    #T_5f380f16_d7ad_11e9_bc6d_092c9c21fc0frow1_col6 {\n",
       "            background-color:  #6b8df0;\n",
       "            color:  #000000;\n",
       "        }    #T_5f380f16_d7ad_11e9_bc6d_092c9c21fc0frow1_col7 {\n",
       "            background-color:  #aac7fd;\n",
       "            color:  #000000;\n",
       "        }    #T_5f380f16_d7ad_11e9_bc6d_092c9c21fc0frow1_col8 {\n",
       "            background-color:  #cbd8ee;\n",
       "            color:  #000000;\n",
       "        }    #T_5f380f16_d7ad_11e9_bc6d_092c9c21fc0frow2_col0 {\n",
       "            background-color:  #7b9ff9;\n",
       "            color:  #000000;\n",
       "        }    #T_5f380f16_d7ad_11e9_bc6d_092c9c21fc0frow2_col1 {\n",
       "            background-color:  #506bda;\n",
       "            color:  #000000;\n",
       "        }    #T_5f380f16_d7ad_11e9_bc6d_092c9c21fc0frow2_col2 {\n",
       "            background-color:  #b40426;\n",
       "            color:  #f1f1f1;\n",
       "        }    #T_5f380f16_d7ad_11e9_bc6d_092c9c21fc0frow2_col3 {\n",
       "            background-color:  #9dbdff;\n",
       "            color:  #000000;\n",
       "        }    #T_5f380f16_d7ad_11e9_bc6d_092c9c21fc0frow2_col4 {\n",
       "            background-color:  #7093f3;\n",
       "            color:  #000000;\n",
       "        }    #T_5f380f16_d7ad_11e9_bc6d_092c9c21fc0frow2_col5 {\n",
       "            background-color:  #9abbff;\n",
       "            color:  #000000;\n",
       "        }    #T_5f380f16_d7ad_11e9_bc6d_092c9c21fc0frow2_col6 {\n",
       "            background-color:  #506bda;\n",
       "            color:  #000000;\n",
       "        }    #T_5f380f16_d7ad_11e9_bc6d_092c9c21fc0frow2_col7 {\n",
       "            background-color:  #a5c3fe;\n",
       "            color:  #000000;\n",
       "        }    #T_5f380f16_d7ad_11e9_bc6d_092c9c21fc0frow2_col8 {\n",
       "            background-color:  #3b4cc0;\n",
       "            color:  #f1f1f1;\n",
       "        }    #T_5f380f16_d7ad_11e9_bc6d_092c9c21fc0frow3_col0 {\n",
       "            background-color:  #3b4cc0;\n",
       "            color:  #f1f1f1;\n",
       "        }    #T_5f380f16_d7ad_11e9_bc6d_092c9c21fc0frow3_col1 {\n",
       "            background-color:  #3b4cc0;\n",
       "            color:  #f1f1f1;\n",
       "        }    #T_5f380f16_d7ad_11e9_bc6d_092c9c21fc0frow3_col2 {\n",
       "            background-color:  #7295f4;\n",
       "            color:  #000000;\n",
       "        }    #T_5f380f16_d7ad_11e9_bc6d_092c9c21fc0frow3_col3 {\n",
       "            background-color:  #b40426;\n",
       "            color:  #f1f1f1;\n",
       "        }    #T_5f380f16_d7ad_11e9_bc6d_092c9c21fc0frow3_col4 {\n",
       "            background-color:  #d8dce2;\n",
       "            color:  #000000;\n",
       "        }    #T_5f380f16_d7ad_11e9_bc6d_092c9c21fc0frow3_col5 {\n",
       "            background-color:  #bcd2f7;\n",
       "            color:  #000000;\n",
       "        }    #T_5f380f16_d7ad_11e9_bc6d_092c9c21fc0frow3_col6 {\n",
       "            background-color:  #80a3fa;\n",
       "            color:  #000000;\n",
       "        }    #T_5f380f16_d7ad_11e9_bc6d_092c9c21fc0frow3_col7 {\n",
       "            background-color:  #3b4cc0;\n",
       "            color:  #f1f1f1;\n",
       "        }    #T_5f380f16_d7ad_11e9_bc6d_092c9c21fc0frow3_col8 {\n",
       "            background-color:  #4257c9;\n",
       "            color:  #f1f1f1;\n",
       "        }    #T_5f380f16_d7ad_11e9_bc6d_092c9c21fc0frow4_col0 {\n",
       "            background-color:  #3b4cc0;\n",
       "            color:  #f1f1f1;\n",
       "        }    #T_5f380f16_d7ad_11e9_bc6d_092c9c21fc0frow4_col1 {\n",
       "            background-color:  #96b7ff;\n",
       "            color:  #000000;\n",
       "        }    #T_5f380f16_d7ad_11e9_bc6d_092c9c21fc0frow4_col2 {\n",
       "            background-color:  #4a63d3;\n",
       "            color:  #f1f1f1;\n",
       "        }    #T_5f380f16_d7ad_11e9_bc6d_092c9c21fc0frow4_col3 {\n",
       "            background-color:  #dcdddd;\n",
       "            color:  #000000;\n",
       "        }    #T_5f380f16_d7ad_11e9_bc6d_092c9c21fc0frow4_col4 {\n",
       "            background-color:  #b40426;\n",
       "            color:  #f1f1f1;\n",
       "        }    #T_5f380f16_d7ad_11e9_bc6d_092c9c21fc0frow4_col5 {\n",
       "            background-color:  #7a9df8;\n",
       "            color:  #000000;\n",
       "        }    #T_5f380f16_d7ad_11e9_bc6d_092c9c21fc0frow4_col6 {\n",
       "            background-color:  #80a3fa;\n",
       "            color:  #000000;\n",
       "        }    #T_5f380f16_d7ad_11e9_bc6d_092c9c21fc0frow4_col7 {\n",
       "            background-color:  #4e68d8;\n",
       "            color:  #000000;\n",
       "        }    #T_5f380f16_d7ad_11e9_bc6d_092c9c21fc0frow4_col8 {\n",
       "            background-color:  #506bda;\n",
       "            color:  #000000;\n",
       "        }    #T_5f380f16_d7ad_11e9_bc6d_092c9c21fc0frow5_col0 {\n",
       "            background-color:  #516ddb;\n",
       "            color:  #000000;\n",
       "        }    #T_5f380f16_d7ad_11e9_bc6d_092c9c21fc0frow5_col1 {\n",
       "            background-color:  #5e7de7;\n",
       "            color:  #000000;\n",
       "        }    #T_5f380f16_d7ad_11e9_bc6d_092c9c21fc0frow5_col2 {\n",
       "            background-color:  #8badfd;\n",
       "            color:  #000000;\n",
       "        }    #T_5f380f16_d7ad_11e9_bc6d_092c9c21fc0frow5_col3 {\n",
       "            background-color:  #cfdaea;\n",
       "            color:  #000000;\n",
       "        }    #T_5f380f16_d7ad_11e9_bc6d_092c9c21fc0frow5_col4 {\n",
       "            background-color:  #90b2fe;\n",
       "            color:  #000000;\n",
       "        }    #T_5f380f16_d7ad_11e9_bc6d_092c9c21fc0frow5_col5 {\n",
       "            background-color:  #b40426;\n",
       "            color:  #f1f1f1;\n",
       "        }    #T_5f380f16_d7ad_11e9_bc6d_092c9c21fc0frow5_col6 {\n",
       "            background-color:  #7295f4;\n",
       "            color:  #000000;\n",
       "        }    #T_5f380f16_d7ad_11e9_bc6d_092c9c21fc0frow5_col7 {\n",
       "            background-color:  #6384eb;\n",
       "            color:  #000000;\n",
       "        }    #T_5f380f16_d7ad_11e9_bc6d_092c9c21fc0frow5_col8 {\n",
       "            background-color:  #86a9fc;\n",
       "            color:  #000000;\n",
       "        }    #T_5f380f16_d7ad_11e9_bc6d_092c9c21fc0frow6_col0 {\n",
       "            background-color:  #4b64d5;\n",
       "            color:  #f1f1f1;\n",
       "        }    #T_5f380f16_d7ad_11e9_bc6d_092c9c21fc0frow6_col1 {\n",
       "            background-color:  #4b64d5;\n",
       "            color:  #f1f1f1;\n",
       "        }    #T_5f380f16_d7ad_11e9_bc6d_092c9c21fc0frow6_col2 {\n",
       "            background-color:  #3b4cc0;\n",
       "            color:  #f1f1f1;\n",
       "        }    #T_5f380f16_d7ad_11e9_bc6d_092c9c21fc0frow6_col3 {\n",
       "            background-color:  #96b7ff;\n",
       "            color:  #000000;\n",
       "        }    #T_5f380f16_d7ad_11e9_bc6d_092c9c21fc0frow6_col4 {\n",
       "            background-color:  #8fb1fe;\n",
       "            color:  #000000;\n",
       "        }    #T_5f380f16_d7ad_11e9_bc6d_092c9c21fc0frow6_col5 {\n",
       "            background-color:  #6c8ff1;\n",
       "            color:  #000000;\n",
       "        }    #T_5f380f16_d7ad_11e9_bc6d_092c9c21fc0frow6_col6 {\n",
       "            background-color:  #b40426;\n",
       "            color:  #f1f1f1;\n",
       "        }    #T_5f380f16_d7ad_11e9_bc6d_092c9c21fc0frow6_col7 {\n",
       "            background-color:  #688aef;\n",
       "            color:  #000000;\n",
       "        }    #T_5f380f16_d7ad_11e9_bc6d_092c9c21fc0frow6_col8 {\n",
       "            background-color:  #5f7fe8;\n",
       "            color:  #000000;\n",
       "        }    #T_5f380f16_d7ad_11e9_bc6d_092c9c21fc0frow7_col0 {\n",
       "            background-color:  #dfdbd9;\n",
       "            color:  #000000;\n",
       "        }    #T_5f380f16_d7ad_11e9_bc6d_092c9c21fc0frow7_col1 {\n",
       "            background-color:  #799cf8;\n",
       "            color:  #000000;\n",
       "        }    #T_5f380f16_d7ad_11e9_bc6d_092c9c21fc0frow7_col2 {\n",
       "            background-color:  #7b9ff9;\n",
       "            color:  #000000;\n",
       "        }    #T_5f380f16_d7ad_11e9_bc6d_092c9c21fc0frow7_col3 {\n",
       "            background-color:  #3b4cc0;\n",
       "            color:  #f1f1f1;\n",
       "        }    #T_5f380f16_d7ad_11e9_bc6d_092c9c21fc0frow7_col4 {\n",
       "            background-color:  #465ecf;\n",
       "            color:  #f1f1f1;\n",
       "        }    #T_5f380f16_d7ad_11e9_bc6d_092c9c21fc0frow7_col5 {\n",
       "            background-color:  #455cce;\n",
       "            color:  #f1f1f1;\n",
       "        }    #T_5f380f16_d7ad_11e9_bc6d_092c9c21fc0frow7_col6 {\n",
       "            background-color:  #506bda;\n",
       "            color:  #000000;\n",
       "        }    #T_5f380f16_d7ad_11e9_bc6d_092c9c21fc0frow7_col7 {\n",
       "            background-color:  #b40426;\n",
       "            color:  #f1f1f1;\n",
       "        }    #T_5f380f16_d7ad_11e9_bc6d_092c9c21fc0frow7_col8 {\n",
       "            background-color:  #6e90f2;\n",
       "            color:  #000000;\n",
       "        }    #T_5f380f16_d7ad_11e9_bc6d_092c9c21fc0frow8_col0 {\n",
       "            background-color:  #93b5fe;\n",
       "            color:  #000000;\n",
       "        }    #T_5f380f16_d7ad_11e9_bc6d_092c9c21fc0frow8_col1 {\n",
       "            background-color:  #c9d7f0;\n",
       "            color:  #000000;\n",
       "        }    #T_5f380f16_d7ad_11e9_bc6d_092c9c21fc0frow8_col2 {\n",
       "            background-color:  #4257c9;\n",
       "            color:  #f1f1f1;\n",
       "        }    #T_5f380f16_d7ad_11e9_bc6d_092c9c21fc0frow8_col3 {\n",
       "            background-color:  #779af7;\n",
       "            color:  #000000;\n",
       "        }    #T_5f380f16_d7ad_11e9_bc6d_092c9c21fc0frow8_col4 {\n",
       "            background-color:  #7ea1fa;\n",
       "            color:  #000000;\n",
       "        }    #T_5f380f16_d7ad_11e9_bc6d_092c9c21fc0frow8_col5 {\n",
       "            background-color:  #9bbcff;\n",
       "            color:  #000000;\n",
       "        }    #T_5f380f16_d7ad_11e9_bc6d_092c9c21fc0frow8_col6 {\n",
       "            background-color:  #7b9ff9;\n",
       "            color:  #000000;\n",
       "        }    #T_5f380f16_d7ad_11e9_bc6d_092c9c21fc0frow8_col7 {\n",
       "            background-color:  #9fbfff;\n",
       "            color:  #000000;\n",
       "        }    #T_5f380f16_d7ad_11e9_bc6d_092c9c21fc0frow8_col8 {\n",
       "            background-color:  #b40426;\n",
       "            color:  #f1f1f1;\n",
       "        }</style><table id=\"T_5f380f16_d7ad_11e9_bc6d_092c9c21fc0f\" ><thead>    <tr>        <th class=\"blank level0\" ></th>        <th class=\"col_heading level0 col0\" >Pregnancies</th>        <th class=\"col_heading level0 col1\" >Glucose</th>        <th class=\"col_heading level0 col2\" >BloodPressure</th>        <th class=\"col_heading level0 col3\" >SkinThickness</th>        <th class=\"col_heading level0 col4\" >Insulin</th>        <th class=\"col_heading level0 col5\" >BMI</th>        <th class=\"col_heading level0 col6\" >DiabetesPedigreeFunction</th>        <th class=\"col_heading level0 col7\" >Age</th>        <th class=\"col_heading level0 col8\" >Outcome</th>    </tr></thead><tbody>\n",
       "                <tr>\n",
       "                        <th id=\"T_5f380f16_d7ad_11e9_bc6d_092c9c21fc0flevel0_row0\" class=\"row_heading level0 row0\" >Pregnancies</th>\n",
       "                        <td id=\"T_5f380f16_d7ad_11e9_bc6d_092c9c21fc0frow0_col0\" class=\"data row0 col0\" >1</td>\n",
       "                        <td id=\"T_5f380f16_d7ad_11e9_bc6d_092c9c21fc0frow0_col1\" class=\"data row0 col1\" >0.0890994</td>\n",
       "                        <td id=\"T_5f380f16_d7ad_11e9_bc6d_092c9c21fc0frow0_col2\" class=\"data row0 col2\" >0.122399</td>\n",
       "                        <td id=\"T_5f380f16_d7ad_11e9_bc6d_092c9c21fc0frow0_col3\" class=\"data row0 col3\" >-0.0995139</td>\n",
       "                        <td id=\"T_5f380f16_d7ad_11e9_bc6d_092c9c21fc0frow0_col4\" class=\"data row0 col4\" >-0.0969645</td>\n",
       "                        <td id=\"T_5f380f16_d7ad_11e9_bc6d_092c9c21fc0frow0_col5\" class=\"data row0 col5\" >-0.0154301</td>\n",
       "                        <td id=\"T_5f380f16_d7ad_11e9_bc6d_092c9c21fc0frow0_col6\" class=\"data row0 col6\" >-0.035988</td>\n",
       "                        <td id=\"T_5f380f16_d7ad_11e9_bc6d_092c9c21fc0frow0_col7\" class=\"data row0 col7\" >0.461788</td>\n",
       "                        <td id=\"T_5f380f16_d7ad_11e9_bc6d_092c9c21fc0frow0_col8\" class=\"data row0 col8\" >0.194147</td>\n",
       "            </tr>\n",
       "            <tr>\n",
       "                        <th id=\"T_5f380f16_d7ad_11e9_bc6d_092c9c21fc0flevel0_row1\" class=\"row_heading level0 row1\" >Glucose</th>\n",
       "                        <td id=\"T_5f380f16_d7ad_11e9_bc6d_092c9c21fc0frow1_col0\" class=\"data row1 col0\" >0.0890994</td>\n",
       "                        <td id=\"T_5f380f16_d7ad_11e9_bc6d_092c9c21fc0frow1_col1\" class=\"data row1 col1\" >1</td>\n",
       "                        <td id=\"T_5f380f16_d7ad_11e9_bc6d_092c9c21fc0frow1_col2\" class=\"data row1 col2\" >0.139863</td>\n",
       "                        <td id=\"T_5f380f16_d7ad_11e9_bc6d_092c9c21fc0frow1_col3\" class=\"data row1 col3\" >0.0726417</td>\n",
       "                        <td id=\"T_5f380f16_d7ad_11e9_bc6d_092c9c21fc0frow1_col4\" class=\"data row1 col4\" >0.329784</td>\n",
       "                        <td id=\"T_5f380f16_d7ad_11e9_bc6d_092c9c21fc0frow1_col5\" class=\"data row1 col5\" >0.179681</td>\n",
       "                        <td id=\"T_5f380f16_d7ad_11e9_bc6d_092c9c21fc0frow1_col6\" class=\"data row1 col6\" >0.124182</td>\n",
       "                        <td id=\"T_5f380f16_d7ad_11e9_bc6d_092c9c21fc0frow1_col7\" class=\"data row1 col7\" >0.250379</td>\n",
       "                        <td id=\"T_5f380f16_d7ad_11e9_bc6d_092c9c21fc0frow1_col8\" class=\"data row1 col8\" >0.469506</td>\n",
       "            </tr>\n",
       "            <tr>\n",
       "                        <th id=\"T_5f380f16_d7ad_11e9_bc6d_092c9c21fc0flevel0_row2\" class=\"row_heading level0 row2\" >BloodPressure</th>\n",
       "                        <td id=\"T_5f380f16_d7ad_11e9_bc6d_092c9c21fc0frow2_col0\" class=\"data row2 col0\" >0.122399</td>\n",
       "                        <td id=\"T_5f380f16_d7ad_11e9_bc6d_092c9c21fc0frow2_col1\" class=\"data row2 col1\" >0.139863</td>\n",
       "                        <td id=\"T_5f380f16_d7ad_11e9_bc6d_092c9c21fc0frow2_col2\" class=\"data row2 col2\" >1</td>\n",
       "                        <td id=\"T_5f380f16_d7ad_11e9_bc6d_092c9c21fc0frow2_col3\" class=\"data row2 col3\" >0.207191</td>\n",
       "                        <td id=\"T_5f380f16_d7ad_11e9_bc6d_092c9c21fc0frow2_col4\" class=\"data row2 col4\" >0.0891479</td>\n",
       "                        <td id=\"T_5f380f16_d7ad_11e9_bc6d_092c9c21fc0frow2_col5\" class=\"data row2 col5\" >0.274645</td>\n",
       "                        <td id=\"T_5f380f16_d7ad_11e9_bc6d_092c9c21fc0frow2_col6\" class=\"data row2 col6\" >0.0399594</td>\n",
       "                        <td id=\"T_5f380f16_d7ad_11e9_bc6d_092c9c21fc0frow2_col7\" class=\"data row2 col7\" >0.231473</td>\n",
       "                        <td id=\"T_5f380f16_d7ad_11e9_bc6d_092c9c21fc0frow2_col8\" class=\"data row2 col8\" >0.0628176</td>\n",
       "            </tr>\n",
       "            <tr>\n",
       "                        <th id=\"T_5f380f16_d7ad_11e9_bc6d_092c9c21fc0flevel0_row3\" class=\"row_heading level0 row3\" >SkinThickness</th>\n",
       "                        <td id=\"T_5f380f16_d7ad_11e9_bc6d_092c9c21fc0frow3_col0\" class=\"data row3 col0\" >-0.0995139</td>\n",
       "                        <td id=\"T_5f380f16_d7ad_11e9_bc6d_092c9c21fc0frow3_col1\" class=\"data row3 col1\" >0.0726417</td>\n",
       "                        <td id=\"T_5f380f16_d7ad_11e9_bc6d_092c9c21fc0frow3_col2\" class=\"data row3 col2\" >0.207191</td>\n",
       "                        <td id=\"T_5f380f16_d7ad_11e9_bc6d_092c9c21fc0frow3_col3\" class=\"data row3 col3\" >1</td>\n",
       "                        <td id=\"T_5f380f16_d7ad_11e9_bc6d_092c9c21fc0frow3_col4\" class=\"data row3 col4\" >0.43267</td>\n",
       "                        <td id=\"T_5f380f16_d7ad_11e9_bc6d_092c9c21fc0frow3_col5\" class=\"data row3 col5\" >0.381212</td>\n",
       "                        <td id=\"T_5f380f16_d7ad_11e9_bc6d_092c9c21fc0frow3_col6\" class=\"data row3 col6\" >0.183684</td>\n",
       "                        <td id=\"T_5f380f16_d7ad_11e9_bc6d_092c9c21fc0frow3_col7\" class=\"data row3 col7\" >-0.126011</td>\n",
       "                        <td id=\"T_5f380f16_d7ad_11e9_bc6d_092c9c21fc0frow3_col8\" class=\"data row3 col8\" >0.0853659</td>\n",
       "            </tr>\n",
       "            <tr>\n",
       "                        <th id=\"T_5f380f16_d7ad_11e9_bc6d_092c9c21fc0flevel0_row4\" class=\"row_heading level0 row4\" >Insulin</th>\n",
       "                        <td id=\"T_5f380f16_d7ad_11e9_bc6d_092c9c21fc0frow4_col0\" class=\"data row4 col0\" >-0.0969645</td>\n",
       "                        <td id=\"T_5f380f16_d7ad_11e9_bc6d_092c9c21fc0frow4_col1\" class=\"data row4 col1\" >0.329784</td>\n",
       "                        <td id=\"T_5f380f16_d7ad_11e9_bc6d_092c9c21fc0frow4_col2\" class=\"data row4 col2\" >0.0891479</td>\n",
       "                        <td id=\"T_5f380f16_d7ad_11e9_bc6d_092c9c21fc0frow4_col3\" class=\"data row4 col3\" >0.43267</td>\n",
       "                        <td id=\"T_5f380f16_d7ad_11e9_bc6d_092c9c21fc0frow4_col4\" class=\"data row4 col4\" >1</td>\n",
       "                        <td id=\"T_5f380f16_d7ad_11e9_bc6d_092c9c21fc0frow4_col5\" class=\"data row4 col5\" >0.186688</td>\n",
       "                        <td id=\"T_5f380f16_d7ad_11e9_bc6d_092c9c21fc0frow4_col6\" class=\"data row4 col6\" >0.185071</td>\n",
       "                        <td id=\"T_5f380f16_d7ad_11e9_bc6d_092c9c21fc0frow4_col7\" class=\"data row4 col7\" >-0.0516003</td>\n",
       "                        <td id=\"T_5f380f16_d7ad_11e9_bc6d_092c9c21fc0frow4_col8\" class=\"data row4 col8\" >0.130548</td>\n",
       "            </tr>\n",
       "            <tr>\n",
       "                        <th id=\"T_5f380f16_d7ad_11e9_bc6d_092c9c21fc0flevel0_row5\" class=\"row_heading level0 row5\" >BMI</th>\n",
       "                        <td id=\"T_5f380f16_d7ad_11e9_bc6d_092c9c21fc0frow5_col0\" class=\"data row5 col0\" >-0.0154301</td>\n",
       "                        <td id=\"T_5f380f16_d7ad_11e9_bc6d_092c9c21fc0frow5_col1\" class=\"data row5 col1\" >0.179681</td>\n",
       "                        <td id=\"T_5f380f16_d7ad_11e9_bc6d_092c9c21fc0frow5_col2\" class=\"data row5 col2\" >0.274645</td>\n",
       "                        <td id=\"T_5f380f16_d7ad_11e9_bc6d_092c9c21fc0frow5_col3\" class=\"data row5 col3\" >0.381212</td>\n",
       "                        <td id=\"T_5f380f16_d7ad_11e9_bc6d_092c9c21fc0frow5_col4\" class=\"data row5 col4\" >0.186688</td>\n",
       "                        <td id=\"T_5f380f16_d7ad_11e9_bc6d_092c9c21fc0frow5_col5\" class=\"data row5 col5\" >1</td>\n",
       "                        <td id=\"T_5f380f16_d7ad_11e9_bc6d_092c9c21fc0frow5_col6\" class=\"data row5 col6\" >0.145734</td>\n",
       "                        <td id=\"T_5f380f16_d7ad_11e9_bc6d_092c9c21fc0frow5_col7\" class=\"data row5 col7\" >0.0209178</td>\n",
       "                        <td id=\"T_5f380f16_d7ad_11e9_bc6d_092c9c21fc0frow5_col8\" class=\"data row5 col8\" >0.279651</td>\n",
       "            </tr>\n",
       "            <tr>\n",
       "                        <th id=\"T_5f380f16_d7ad_11e9_bc6d_092c9c21fc0flevel0_row6\" class=\"row_heading level0 row6\" >DiabetesPedigreeFunction</th>\n",
       "                        <td id=\"T_5f380f16_d7ad_11e9_bc6d_092c9c21fc0frow6_col0\" class=\"data row6 col0\" >-0.035988</td>\n",
       "                        <td id=\"T_5f380f16_d7ad_11e9_bc6d_092c9c21fc0frow6_col1\" class=\"data row6 col1\" >0.124182</td>\n",
       "                        <td id=\"T_5f380f16_d7ad_11e9_bc6d_092c9c21fc0frow6_col2\" class=\"data row6 col2\" >0.0399594</td>\n",
       "                        <td id=\"T_5f380f16_d7ad_11e9_bc6d_092c9c21fc0frow6_col3\" class=\"data row6 col3\" >0.183684</td>\n",
       "                        <td id=\"T_5f380f16_d7ad_11e9_bc6d_092c9c21fc0frow6_col4\" class=\"data row6 col4\" >0.185071</td>\n",
       "                        <td id=\"T_5f380f16_d7ad_11e9_bc6d_092c9c21fc0frow6_col5\" class=\"data row6 col5\" >0.145734</td>\n",
       "                        <td id=\"T_5f380f16_d7ad_11e9_bc6d_092c9c21fc0frow6_col6\" class=\"data row6 col6\" >1</td>\n",
       "                        <td id=\"T_5f380f16_d7ad_11e9_bc6d_092c9c21fc0frow6_col7\" class=\"data row6 col7\" >0.0375535</td>\n",
       "                        <td id=\"T_5f380f16_d7ad_11e9_bc6d_092c9c21fc0frow6_col8\" class=\"data row6 col8\" >0.173844</td>\n",
       "            </tr>\n",
       "            <tr>\n",
       "                        <th id=\"T_5f380f16_d7ad_11e9_bc6d_092c9c21fc0flevel0_row7\" class=\"row_heading level0 row7\" >Age</th>\n",
       "                        <td id=\"T_5f380f16_d7ad_11e9_bc6d_092c9c21fc0frow7_col0\" class=\"data row7 col0\" >0.461788</td>\n",
       "                        <td id=\"T_5f380f16_d7ad_11e9_bc6d_092c9c21fc0frow7_col1\" class=\"data row7 col1\" >0.250379</td>\n",
       "                        <td id=\"T_5f380f16_d7ad_11e9_bc6d_092c9c21fc0frow7_col2\" class=\"data row7 col2\" >0.231473</td>\n",
       "                        <td id=\"T_5f380f16_d7ad_11e9_bc6d_092c9c21fc0frow7_col3\" class=\"data row7 col3\" >-0.126011</td>\n",
       "                        <td id=\"T_5f380f16_d7ad_11e9_bc6d_092c9c21fc0frow7_col4\" class=\"data row7 col4\" >-0.0516003</td>\n",
       "                        <td id=\"T_5f380f16_d7ad_11e9_bc6d_092c9c21fc0frow7_col5\" class=\"data row7 col5\" >0.0209178</td>\n",
       "                        <td id=\"T_5f380f16_d7ad_11e9_bc6d_092c9c21fc0frow7_col6\" class=\"data row7 col6\" >0.0375535</td>\n",
       "                        <td id=\"T_5f380f16_d7ad_11e9_bc6d_092c9c21fc0frow7_col7\" class=\"data row7 col7\" >1</td>\n",
       "                        <td id=\"T_5f380f16_d7ad_11e9_bc6d_092c9c21fc0frow7_col8\" class=\"data row7 col8\" >0.216095</td>\n",
       "            </tr>\n",
       "            <tr>\n",
       "                        <th id=\"T_5f380f16_d7ad_11e9_bc6d_092c9c21fc0flevel0_row8\" class=\"row_heading level0 row8\" >Outcome</th>\n",
       "                        <td id=\"T_5f380f16_d7ad_11e9_bc6d_092c9c21fc0frow8_col0\" class=\"data row8 col0\" >0.194147</td>\n",
       "                        <td id=\"T_5f380f16_d7ad_11e9_bc6d_092c9c21fc0frow8_col1\" class=\"data row8 col1\" >0.469506</td>\n",
       "                        <td id=\"T_5f380f16_d7ad_11e9_bc6d_092c9c21fc0frow8_col2\" class=\"data row8 col2\" >0.0628176</td>\n",
       "                        <td id=\"T_5f380f16_d7ad_11e9_bc6d_092c9c21fc0frow8_col3\" class=\"data row8 col3\" >0.0853659</td>\n",
       "                        <td id=\"T_5f380f16_d7ad_11e9_bc6d_092c9c21fc0frow8_col4\" class=\"data row8 col4\" >0.130548</td>\n",
       "                        <td id=\"T_5f380f16_d7ad_11e9_bc6d_092c9c21fc0frow8_col5\" class=\"data row8 col5\" >0.279651</td>\n",
       "                        <td id=\"T_5f380f16_d7ad_11e9_bc6d_092c9c21fc0frow8_col6\" class=\"data row8 col6\" >0.173844</td>\n",
       "                        <td id=\"T_5f380f16_d7ad_11e9_bc6d_092c9c21fc0frow8_col7\" class=\"data row8 col7\" >0.216095</td>\n",
       "                        <td id=\"T_5f380f16_d7ad_11e9_bc6d_092c9c21fc0frow8_col8\" class=\"data row8 col8\" >1</td>\n",
       "            </tr>\n",
       "    </tbody></table>"
      ],
      "text/plain": [
       "<pandas.io.formats.style.Styler at 0x7f85177ba7f0>"
      ]
     },
     "execution_count": 355,
     "metadata": {},
     "output_type": "execute_result"
    }
   ],
   "source": [
    "## Co-relation Matrix\n",
    "\n",
    "corr = df.corr()\n",
    "corr.style.background_gradient(cmap='coolwarm')"
   ]
  },
  {
   "cell_type": "code",
   "execution_count": null,
   "metadata": {},
   "outputs": [],
   "source": [
    "## Box-plot for every columns\n",
    "## This was done to get information about outliers"
   ]
  },
  {
   "cell_type": "code",
   "execution_count": 335,
   "metadata": {},
   "outputs": [
    {
     "data": {
      "text/plain": [
       "<matplotlib.axes._subplots.AxesSubplot at 0x7f8517745da0>"
      ]
     },
     "execution_count": 335,
     "metadata": {},
     "output_type": "execute_result"
    },
    {
     "data": {
      "image/png": "[encoded data removed]",
      "text/plain": [
       "<Figure size 432x288 with 1 Axes>"
      ]
     },
     "metadata": {
      "needs_background": "light"
     },
     "output_type": "display_data"
    }
   ],
   "source": [
    "sns.boxplot(y =['BloodPressure'], data = df)"
   ]
  },
  {
   "cell_type": "code",
   "execution_count": 336,
   "metadata": {},
   "outputs": [
    {
     "data": {
      "text/plain": [
       "<matplotlib.axes._subplots.AxesSubplot at 0x7f85176d2860>"
      ]
     },
     "execution_count": 336,
     "metadata": {},
     "output_type": "execute_result"
    },
    {
     "data": {
      "image/png": "[encoded data removed]",
      "text/plain": [
       "<Figure size 432x288 with 1 Axes>"
      ]
     },
     "metadata": {
      "needs_background": "light"
     },
     "output_type": "display_data"
    }
   ],
   "source": [
    "sns.boxplot(y =['BMI'], data = df)"
   ]
  },
  {
   "cell_type": "code",
   "execution_count": 337,
   "metadata": {},
   "outputs": [
    {
     "data": {
      "text/plain": [
       "<matplotlib.axes._subplots.AxesSubplot at 0x7f85176aa400>"
      ]
     },
     "execution_count": 337,
     "metadata": {},
     "output_type": "execute_result"
    },
    {
     "data": {
      "image/png": "[encoded data removed]",
      "text/plain": [
       "<Figure size 432x288 with 1 Axes>"
      ]
     },
     "metadata": {
      "needs_background": "light"
     },
     "output_type": "display_data"
    }
   ],
   "source": [
    "sns.boxplot(y =['Pregnancies'], data = df)"
   ]
  },
  {
   "cell_type": "code",
   "execution_count": 338,
   "metadata": {},
   "outputs": [
    {
     "data": {
      "text/plain": [
       "<matplotlib.axes._subplots.AxesSubplot at 0x7f851767b320>"
      ]
     },
     "execution_count": 338,
     "metadata": {},
     "output_type": "execute_result"
    },
    {
     "data": {
      "image/png": "[encoded data removed]",
      "text/plain": [
       "<Figure size 432x288 with 1 Axes>"
      ]
     },
     "metadata": {
      "needs_background": "light"
     },
     "output_type": "display_data"
    }
   ],
   "source": [
    "sns.boxplot(y =['Glucose'], data = df)"
   ]
  },
  {
   "cell_type": "code",
   "execution_count": 339,
   "metadata": {},
   "outputs": [
    {
     "data": {
      "text/plain": [
       "<matplotlib.axes._subplots.AxesSubplot at 0x7f85175e7a58>"
      ]
     },
     "execution_count": 339,
     "metadata": {},
     "output_type": "execute_result"
    },
    {
     "data": {
      "image/png": "[encoded data removed]",
      "text/plain": [
       "<Figure size 432x288 with 1 Axes>"
      ]
     },
     "metadata": {
      "needs_background": "light"
     },
     "output_type": "display_data"
    }
   ],
   "source": [
    "sns.boxplot(y =['Insulin'], data = df)"
   ]
  },
  {
   "cell_type": "code",
   "execution_count": 340,
   "metadata": {},
   "outputs": [
    {
     "data": {
      "text/plain": [
       "<matplotlib.axes._subplots.AxesSubplot at 0x7f85175b3048>"
      ]
     },
     "execution_count": 340,
     "metadata": {},
     "output_type": "execute_result"
    },
    {
     "data": {
      "image/png": "[encoded data removed]",
      "text/plain": [
       "<Figure size 432x288 with 1 Axes>"
      ]
     },
     "metadata": {
      "needs_background": "light"
     },
     "output_type": "display_data"
    }
   ],
   "source": [
    "sns.boxplot(y =['Age'], data = df)"
   ]
  },
  {
   "cell_type": "code",
   "execution_count": 341,
   "metadata": {},
   "outputs": [
    {
     "data": {
      "text/plain": [
       "<matplotlib.axes._subplots.AxesSubplot at 0x7f8517511be0>"
      ]
     },
     "execution_count": 341,
     "metadata": {},
     "output_type": "execute_result"
    },
    {
     "data": {
      "image/png": "[encoded data removed]",
      "text/plain": [
       "<Figure size 432x288 with 1 Axes>"
      ]
     },
     "metadata": {
      "needs_background": "light"
     },
     "output_type": "display_data"
    }
   ],
   "source": [
    "sns.boxplot(y =['SkinThickness'], data = df)"
   ]
  },
  {
   "cell_type": "code",
   "execution_count": 342,
   "metadata": {},
   "outputs": [
    {
     "data": {
      "text/plain": [
       "<matplotlib.axes._subplots.AxesSubplot at 0x7f85174faf60>"
      ]
     },
     "execution_count": 342,
     "metadata": {},
     "output_type": "execute_result"
    },
    {
     "data": {
      "image/png": "[encoded data removed]",
      "text/plain": [
       "<Figure size 432x288 with 1 Axes>"
      ]
     },
     "metadata": {
      "needs_background": "light"
     },
     "output_type": "display_data"
    }
   ],
   "source": [
    "sns.boxplot(y =['DiabetesPedigreeFunction'], data = df)"
   ]
  },
  {
   "cell_type": "code",
   "execution_count": 357,
   "metadata": {},
   "outputs": [
    {
     "data": {
      "text/plain": [
       "(768, 7)"
      ]
     },
     "execution_count": 357,
     "metadata": {},
     "output_type": "execute_result"
    }
   ],
   "source": [
    "df.shape"
   ]
  },
  {
   "cell_type": "code",
   "execution_count": 356,
   "metadata": {},
   "outputs": [],
   "source": [
    "df = df.drop(['SkinThickness', 'BloodPressure'],axis=1)"
   ]
  },
  {
   "cell_type": "code",
   "execution_count": 358,
   "metadata": {},
   "outputs": [],
   "source": [
    "age_mean = df.Age.mean()"
   ]
  },
  {
   "cell_type": "code",
   "execution_count": 359,
   "metadata": {},
   "outputs": [
    {
     "data": {
      "text/plain": [
       "33.76133595599272"
      ]
     },
     "execution_count": 359,
     "metadata": {},
     "output_type": "execute_result"
    }
   ],
   "source": [
    "age_mean"
   ]
  },
  {
   "cell_type": "code",
   "execution_count": 360,
   "metadata": {},
   "outputs": [],
   "source": [
    "## Replacing Null value of age with mean\n",
    "\n",
    "df.Age.fillna(value = age_mean, inplace = True)"
   ]
  },
  {
   "cell_type": "code",
   "execution_count": 367,
   "metadata": {},
   "outputs": [
    {
     "name": "stderr",
     "output_type": "stream",
     "text": [
      "/home/lami/anaconda3/lib/python3.7/site-packages/ipykernel_launcher.py:4: FutureWarning: set_value is deprecated and will be removed in a future release. Please use .at[] or .iat[] accessors instead\n",
      "  after removing the cwd from sys.path.\n"
     ]
    }
   ],
   "source": [
    "## Replacing Null value of BMI with lower limit of the Box-plot\n",
    "\n",
    "df.BMI.fillna(value=-1,inplace=True)\n",
    "for i, row in df.iterrows():\n",
    "    if (row.BMI < 0):\n",
    "        df.set_value(i,'BMI',13)    "
   ]
  },
  {
   "cell_type": "code",
   "execution_count": 368,
   "metadata": {},
   "outputs": [
    {
     "data": {
      "text/html": [
       "<div>\n",
       "<style scoped>\n",
       "    .dataframe tbody tr th:only-of-type {\n",
       "        vertical-align: middle;\n",
       "    }\n",
       "\n",
       "    .dataframe tbody tr th {\n",
       "        vertical-align: top;\n",
       "    }\n",
       "\n",
       "    .dataframe thead th {\n",
       "        text-align: right;\n",
       "    }\n",
       "</style>\n",
       "<table border=\"1\" class=\"dataframe\">\n",
       "  <thead>\n",
       "    <tr style=\"text-align: right;\">\n",
       "      <th></th>\n",
       "      <th>Pregnancies</th>\n",
       "      <th>Glucose</th>\n",
       "      <th>Insulin</th>\n",
       "      <th>BMI</th>\n",
       "      <th>DiabetesPedigreeFunction</th>\n",
       "      <th>Age</th>\n",
       "      <th>Outcome</th>\n",
       "    </tr>\n",
       "  </thead>\n",
       "  <tbody>\n",
       "    <tr>\n",
       "      <th>count</th>\n",
       "      <td>768.000000</td>\n",
       "      <td>752.000000</td>\n",
       "      <td>768.000000</td>\n",
       "      <td>768.000000</td>\n",
       "      <td>768.000000</td>\n",
       "      <td>768.000000</td>\n",
       "      <td>768.000000</td>\n",
       "    </tr>\n",
       "    <tr>\n",
       "      <th>mean</th>\n",
       "      <td>3.701846</td>\n",
       "      <td>119.966097</td>\n",
       "      <td>79.799479</td>\n",
       "      <td>31.559712</td>\n",
       "      <td>0.471876</td>\n",
       "      <td>33.761336</td>\n",
       "      <td>0.348958</td>\n",
       "    </tr>\n",
       "    <tr>\n",
       "      <th>std</th>\n",
       "      <td>3.532045</td>\n",
       "      <td>32.367659</td>\n",
       "      <td>115.244002</td>\n",
       "      <td>8.356783</td>\n",
       "      <td>0.331329</td>\n",
       "      <td>12.144139</td>\n",
       "      <td>0.476951</td>\n",
       "    </tr>\n",
       "    <tr>\n",
       "      <th>min</th>\n",
       "      <td>-5.412815</td>\n",
       "      <td>0.000000</td>\n",
       "      <td>0.000000</td>\n",
       "      <td>0.000000</td>\n",
       "      <td>0.078000</td>\n",
       "      <td>21.000000</td>\n",
       "      <td>0.000000</td>\n",
       "    </tr>\n",
       "    <tr>\n",
       "      <th>25%</th>\n",
       "      <td>1.000000</td>\n",
       "      <td>99.000000</td>\n",
       "      <td>0.000000</td>\n",
       "      <td>26.800000</td>\n",
       "      <td>0.243750</td>\n",
       "      <td>24.000000</td>\n",
       "      <td>0.000000</td>\n",
       "    </tr>\n",
       "    <tr>\n",
       "      <th>50%</th>\n",
       "      <td>3.000000</td>\n",
       "      <td>116.000000</td>\n",
       "      <td>30.500000</td>\n",
       "      <td>32.000000</td>\n",
       "      <td>0.372500</td>\n",
       "      <td>30.000000</td>\n",
       "      <td>0.000000</td>\n",
       "    </tr>\n",
       "    <tr>\n",
       "      <th>75%</th>\n",
       "      <td>6.000000</td>\n",
       "      <td>140.000000</td>\n",
       "      <td>127.250000</td>\n",
       "      <td>36.425000</td>\n",
       "      <td>0.626250</td>\n",
       "      <td>41.000000</td>\n",
       "      <td>1.000000</td>\n",
       "    </tr>\n",
       "    <tr>\n",
       "      <th>max</th>\n",
       "      <td>17.000000</td>\n",
       "      <td>199.000000</td>\n",
       "      <td>846.000000</td>\n",
       "      <td>67.100000</td>\n",
       "      <td>2.420000</td>\n",
       "      <td>81.000000</td>\n",
       "      <td>1.000000</td>\n",
       "    </tr>\n",
       "  </tbody>\n",
       "</table>\n",
       "</div>"
      ],
      "text/plain": [
       "       Pregnancies     Glucose     Insulin         BMI  \\\n",
       "count   768.000000  752.000000  768.000000  768.000000   \n",
       "mean      3.701846  119.966097   79.799479   31.559712   \n",
       "std       3.532045   32.367659  115.244002    8.356783   \n",
       "min      -5.412815    0.000000    0.000000    0.000000   \n",
       "25%       1.000000   99.000000    0.000000   26.800000   \n",
       "50%       3.000000  116.000000   30.500000   32.000000   \n",
       "75%       6.000000  140.000000  127.250000   36.425000   \n",
       "max      17.000000  199.000000  846.000000   67.100000   \n",
       "\n",
       "       DiabetesPedigreeFunction         Age     Outcome  \n",
       "count                768.000000  768.000000  768.000000  \n",
       "mean                   0.471876   33.761336    0.348958  \n",
       "std                    0.331329   12.144139    0.476951  \n",
       "min                    0.078000   21.000000    0.000000  \n",
       "25%                    0.243750   24.000000    0.000000  \n",
       "50%                    0.372500   30.000000    0.000000  \n",
       "75%                    0.626250   41.000000    1.000000  \n",
       "max                    2.420000   81.000000    1.000000  "
      ]
     },
     "execution_count": 368,
     "metadata": {},
     "output_type": "execute_result"
    }
   ],
   "source": [
    "df.describe()"
   ]
  },
  {
   "cell_type": "code",
   "execution_count": 369,
   "metadata": {},
   "outputs": [
    {
     "name": "stderr",
     "output_type": "stream",
     "text": [
      "/home/lami/anaconda3/lib/python3.7/site-packages/ipykernel_launcher.py:4: FutureWarning: set_value is deprecated and will be removed in a future release. Please use .at[] or .iat[] accessors instead\n",
      "  after removing the cwd from sys.path.\n"
     ]
    }
   ],
   "source": [
    "## Replacing Null values of Pregnancies with 0(no pregnancy)\n",
    "\n",
    "df.Pregnancies.fillna(value= -1 , inplace=True)\n",
    "for i, row in df.iterrows():\n",
    "    if (row.Pregnancies < 0):\n",
    "        df.set_value(i,'Pregnancies',0)"
   ]
  },
  {
   "cell_type": "code",
   "execution_count": 379,
   "metadata": {},
   "outputs": [],
   "source": [
    "## Dropping Null and negative values of Glucose\n",
    "\n",
    "df.Glucose.fillna(value= -1 , inplace=True)\n",
    "df = df.drop(df[df.Glucose < 0].index.tolist())"
   ]
  },
  {
   "cell_type": "code",
   "execution_count": 380,
   "metadata": {},
   "outputs": [
    {
     "data": {
      "text/html": [
       "<div>\n",
       "<style scoped>\n",
       "    .dataframe tbody tr th:only-of-type {\n",
       "        vertical-align: middle;\n",
       "    }\n",
       "\n",
       "    .dataframe tbody tr th {\n",
       "        vertical-align: top;\n",
       "    }\n",
       "\n",
       "    .dataframe thead th {\n",
       "        text-align: right;\n",
       "    }\n",
       "</style>\n",
       "<table border=\"1\" class=\"dataframe\">\n",
       "  <thead>\n",
       "    <tr style=\"text-align: right;\">\n",
       "      <th></th>\n",
       "      <th>Pregnancies</th>\n",
       "      <th>Glucose</th>\n",
       "      <th>Insulin</th>\n",
       "      <th>BMI</th>\n",
       "      <th>DiabetesPedigreeFunction</th>\n",
       "      <th>Age</th>\n",
       "      <th>Outcome</th>\n",
       "    </tr>\n",
       "  </thead>\n",
       "  <tbody>\n",
       "    <tr>\n",
       "      <th>count</th>\n",
       "      <td>752.000000</td>\n",
       "      <td>752.000000</td>\n",
       "      <td>752.000000</td>\n",
       "      <td>752.000000</td>\n",
       "      <td>752.000000</td>\n",
       "      <td>752.000000</td>\n",
       "      <td>752.000000</td>\n",
       "    </tr>\n",
       "    <tr>\n",
       "      <th>mean</th>\n",
       "      <td>3.753561</td>\n",
       "      <td>119.966097</td>\n",
       "      <td>78.683511</td>\n",
       "      <td>31.618031</td>\n",
       "      <td>0.472743</td>\n",
       "      <td>33.562883</td>\n",
       "      <td>0.351064</td>\n",
       "    </tr>\n",
       "    <tr>\n",
       "      <th>std</th>\n",
       "      <td>3.458099</td>\n",
       "      <td>32.367659</td>\n",
       "      <td>115.032680</td>\n",
       "      <td>8.343119</td>\n",
       "      <td>0.333105</td>\n",
       "      <td>11.811888</td>\n",
       "      <td>0.477621</td>\n",
       "    </tr>\n",
       "    <tr>\n",
       "      <th>min</th>\n",
       "      <td>0.000000</td>\n",
       "      <td>0.000000</td>\n",
       "      <td>0.000000</td>\n",
       "      <td>0.000000</td>\n",
       "      <td>0.078000</td>\n",
       "      <td>21.000000</td>\n",
       "      <td>0.000000</td>\n",
       "    </tr>\n",
       "    <tr>\n",
       "      <th>25%</th>\n",
       "      <td>1.000000</td>\n",
       "      <td>99.000000</td>\n",
       "      <td>0.000000</td>\n",
       "      <td>26.800000</td>\n",
       "      <td>0.242500</td>\n",
       "      <td>24.000000</td>\n",
       "      <td>0.000000</td>\n",
       "    </tr>\n",
       "    <tr>\n",
       "      <th>50%</th>\n",
       "      <td>3.000000</td>\n",
       "      <td>116.000000</td>\n",
       "      <td>22.500000</td>\n",
       "      <td>32.000000</td>\n",
       "      <td>0.372500</td>\n",
       "      <td>30.000000</td>\n",
       "      <td>0.000000</td>\n",
       "    </tr>\n",
       "    <tr>\n",
       "      <th>75%</th>\n",
       "      <td>6.000000</td>\n",
       "      <td>140.000000</td>\n",
       "      <td>126.000000</td>\n",
       "      <td>36.500000</td>\n",
       "      <td>0.626250</td>\n",
       "      <td>41.000000</td>\n",
       "      <td>1.000000</td>\n",
       "    </tr>\n",
       "    <tr>\n",
       "      <th>max</th>\n",
       "      <td>17.000000</td>\n",
       "      <td>199.000000</td>\n",
       "      <td>846.000000</td>\n",
       "      <td>67.100000</td>\n",
       "      <td>2.420000</td>\n",
       "      <td>72.000000</td>\n",
       "      <td>1.000000</td>\n",
       "    </tr>\n",
       "  </tbody>\n",
       "</table>\n",
       "</div>"
      ],
      "text/plain": [
       "       Pregnancies     Glucose     Insulin         BMI  \\\n",
       "count   752.000000  752.000000  752.000000  752.000000   \n",
       "mean      3.753561  119.966097   78.683511   31.618031   \n",
       "std       3.458099   32.367659  115.032680    8.343119   \n",
       "min       0.000000    0.000000    0.000000    0.000000   \n",
       "25%       1.000000   99.000000    0.000000   26.800000   \n",
       "50%       3.000000  116.000000   22.500000   32.000000   \n",
       "75%       6.000000  140.000000  126.000000   36.500000   \n",
       "max      17.000000  199.000000  846.000000   67.100000   \n",
       "\n",
       "       DiabetesPedigreeFunction         Age     Outcome  \n",
       "count                752.000000  752.000000  752.000000  \n",
       "mean                   0.472743   33.562883    0.351064  \n",
       "std                    0.333105   11.811888    0.477621  \n",
       "min                    0.078000   21.000000    0.000000  \n",
       "25%                    0.242500   24.000000    0.000000  \n",
       "50%                    0.372500   30.000000    0.000000  \n",
       "75%                    0.626250   41.000000    1.000000  \n",
       "max                    2.420000   72.000000    1.000000  "
      ]
     },
     "execution_count": 380,
     "metadata": {},
     "output_type": "execute_result"
    }
   ],
   "source": [
    "df.describe()"
   ]
  },
  {
   "cell_type": "code",
   "execution_count": 390,
   "metadata": {},
   "outputs": [
    {
     "data": {
      "text/plain": [
       "(752, 6)"
      ]
     },
     "execution_count": 390,
     "metadata": {},
     "output_type": "execute_result"
    }
   ],
   "source": [
    "## Divide the dataset into data and outcomes\n",
    "\n",
    "x = df.iloc[:,0:6]\n",
    "x.shape"
   ]
  },
  {
   "cell_type": "code",
   "execution_count": 391,
   "metadata": {},
   "outputs": [],
   "source": [
    "y = df.iloc[:,6:]"
   ]
  },
  {
   "cell_type": "code",
   "execution_count": 392,
   "metadata": {},
   "outputs": [
    {
     "data": {
      "text/plain": [
       "(752, 1)"
      ]
     },
     "execution_count": 392,
     "metadata": {},
     "output_type": "execute_result"
    }
   ],
   "source": [
    "y.shape"
   ]
  },
  {
   "cell_type": "code",
   "execution_count": 393,
   "metadata": {},
   "outputs": [
    {
     "data": {
      "text/html": [
       "<style  type=\"text/css\" >\n",
       "    #T_c4d17bbc_d7af_11e9_bc6d_092c9c21fc0frow0_col0 {\n",
       "            background-color:  #b40426;\n",
       "            color:  #f1f1f1;\n",
       "        }    #T_c4d17bbc_d7af_11e9_bc6d_092c9c21fc0frow0_col1 {\n",
       "            background-color:  #3b4cc0;\n",
       "            color:  #f1f1f1;\n",
       "        }    #T_c4d17bbc_d7af_11e9_bc6d_092c9c21fc0frow0_col2 {\n",
       "            background-color:  #3b4cc0;\n",
       "            color:  #f1f1f1;\n",
       "        }    #T_c4d17bbc_d7af_11e9_bc6d_092c9c21fc0frow0_col3 {\n",
       "            background-color:  #3b4cc0;\n",
       "            color:  #f1f1f1;\n",
       "        }    #T_c4d17bbc_d7af_11e9_bc6d_092c9c21fc0frow0_col4 {\n",
       "            background-color:  #3b4cc0;\n",
       "            color:  #f1f1f1;\n",
       "        }    #T_c4d17bbc_d7af_11e9_bc6d_092c9c21fc0frow0_col5 {\n",
       "            background-color:  #dbdcde;\n",
       "            color:  #000000;\n",
       "        }    #T_c4d17bbc_d7af_11e9_bc6d_092c9c21fc0frow0_col6 {\n",
       "            background-color:  #506bda;\n",
       "            color:  #000000;\n",
       "        }    #T_c4d17bbc_d7af_11e9_bc6d_092c9c21fc0frow1_col0 {\n",
       "            background-color:  #6e90f2;\n",
       "            color:  #000000;\n",
       "        }    #T_c4d17bbc_d7af_11e9_bc6d_092c9c21fc0frow1_col1 {\n",
       "            background-color:  #b40426;\n",
       "            color:  #f1f1f1;\n",
       "        }    #T_c4d17bbc_d7af_11e9_bc6d_092c9c21fc0frow1_col2 {\n",
       "            background-color:  #bcd2f7;\n",
       "            color:  #000000;\n",
       "        }    #T_c4d17bbc_d7af_11e9_bc6d_092c9c21fc0frow1_col3 {\n",
       "            background-color:  #7b9ff9;\n",
       "            color:  #000000;\n",
       "        }    #T_c4d17bbc_d7af_11e9_bc6d_092c9c21fc0frow1_col4 {\n",
       "            background-color:  #6e90f2;\n",
       "            color:  #000000;\n",
       "        }    #T_c4d17bbc_d7af_11e9_bc6d_092c9c21fc0frow1_col5 {\n",
       "            background-color:  #9abbff;\n",
       "            color:  #000000;\n",
       "        }    #T_c4d17bbc_d7af_11e9_bc6d_092c9c21fc0frow1_col6 {\n",
       "            background-color:  #bfd3f6;\n",
       "            color:  #000000;\n",
       "        }    #T_c4d17bbc_d7af_11e9_bc6d_092c9c21fc0frow2_col0 {\n",
       "            background-color:  #3b4cc0;\n",
       "            color:  #f1f1f1;\n",
       "        }    #T_c4d17bbc_d7af_11e9_bc6d_092c9c21fc0frow2_col1 {\n",
       "            background-color:  #94b6ff;\n",
       "            color:  #000000;\n",
       "        }    #T_c4d17bbc_d7af_11e9_bc6d_092c9c21fc0frow2_col2 {\n",
       "            background-color:  #b40426;\n",
       "            color:  #f1f1f1;\n",
       "        }    #T_c4d17bbc_d7af_11e9_bc6d_092c9c21fc0frow2_col3 {\n",
       "            background-color:  #7a9df8;\n",
       "            color:  #000000;\n",
       "        }    #T_c4d17bbc_d7af_11e9_bc6d_092c9c21fc0frow2_col4 {\n",
       "            background-color:  #82a6fb;\n",
       "            color:  #000000;\n",
       "        }    #T_c4d17bbc_d7af_11e9_bc6d_092c9c21fc0frow2_col5 {\n",
       "            background-color:  #3b4cc0;\n",
       "            color:  #f1f1f1;\n",
       "        }    #T_c4d17bbc_d7af_11e9_bc6d_092c9c21fc0frow2_col6 {\n",
       "            background-color:  #3b4cc0;\n",
       "            color:  #f1f1f1;\n",
       "        }    #T_c4d17bbc_d7af_11e9_bc6d_092c9c21fc0frow3_col0 {\n",
       "            background-color:  #536edd;\n",
       "            color:  #000000;\n",
       "        }    #T_c4d17bbc_d7af_11e9_bc6d_092c9c21fc0frow3_col1 {\n",
       "            background-color:  #6180e9;\n",
       "            color:  #000000;\n",
       "        }    #T_c4d17bbc_d7af_11e9_bc6d_092c9c21fc0frow3_col2 {\n",
       "            background-color:  #92b4fe;\n",
       "            color:  #000000;\n",
       "        }    #T_c4d17bbc_d7af_11e9_bc6d_092c9c21fc0frow3_col3 {\n",
       "            background-color:  #b40426;\n",
       "            color:  #f1f1f1;\n",
       "        }    #T_c4d17bbc_d7af_11e9_bc6d_092c9c21fc0frow3_col4 {\n",
       "            background-color:  #7699f6;\n",
       "            color:  #000000;\n",
       "        }    #T_c4d17bbc_d7af_11e9_bc6d_092c9c21fc0frow3_col5 {\n",
       "            background-color:  #536edd;\n",
       "            color:  #000000;\n",
       "        }    #T_c4d17bbc_d7af_11e9_bc6d_092c9c21fc0frow3_col6 {\n",
       "            background-color:  #7396f5;\n",
       "            color:  #000000;\n",
       "        }    #T_c4d17bbc_d7af_11e9_bc6d_092c9c21fc0frow4_col0 {\n",
       "            background-color:  #4961d2;\n",
       "            color:  #f1f1f1;\n",
       "        }    #T_c4d17bbc_d7af_11e9_bc6d_092c9c21fc0frow4_col1 {\n",
       "            background-color:  #485fd1;\n",
       "            color:  #f1f1f1;\n",
       "        }    #T_c4d17bbc_d7af_11e9_bc6d_092c9c21fc0frow4_col2 {\n",
       "            background-color:  #90b2fe;\n",
       "            color:  #000000;\n",
       "        }    #T_c4d17bbc_d7af_11e9_bc6d_092c9c21fc0frow4_col3 {\n",
       "            background-color:  #6c8ff1;\n",
       "            color:  #000000;\n",
       "        }    #T_c4d17bbc_d7af_11e9_bc6d_092c9c21fc0frow4_col4 {\n",
       "            background-color:  #b40426;\n",
       "            color:  #f1f1f1;\n",
       "        }    #T_c4d17bbc_d7af_11e9_bc6d_092c9c21fc0frow4_col5 {\n",
       "            background-color:  #5673e0;\n",
       "            color:  #000000;\n",
       "        }    #T_c4d17bbc_d7af_11e9_bc6d_092c9c21fc0frow4_col6 {\n",
       "            background-color:  #4b64d5;\n",
       "            color:  #f1f1f1;\n",
       "        }    #T_c4d17bbc_d7af_11e9_bc6d_092c9c21fc0frow5_col0 {\n",
       "            background-color:  #e0dbd8;\n",
       "            color:  #000000;\n",
       "        }    #T_c4d17bbc_d7af_11e9_bc6d_092c9c21fc0frow5_col1 {\n",
       "            background-color:  #7597f6;\n",
       "            color:  #000000;\n",
       "        }    #T_c4d17bbc_d7af_11e9_bc6d_092c9c21fc0frow5_col2 {\n",
       "            background-color:  #455cce;\n",
       "            color:  #f1f1f1;\n",
       "        }    #T_c4d17bbc_d7af_11e9_bc6d_092c9c21fc0frow5_col3 {\n",
       "            background-color:  #455cce;\n",
       "            color:  #f1f1f1;\n",
       "        }    #T_c4d17bbc_d7af_11e9_bc6d_092c9c21fc0frow5_col4 {\n",
       "            background-color:  #536edd;\n",
       "            color:  #000000;\n",
       "        }    #T_c4d17bbc_d7af_11e9_bc6d_092c9c21fc0frow5_col5 {\n",
       "            background-color:  #b40426;\n",
       "            color:  #f1f1f1;\n",
       "        }    #T_c4d17bbc_d7af_11e9_bc6d_092c9c21fc0frow5_col6 {\n",
       "            background-color:  #5d7ce6;\n",
       "            color:  #000000;\n",
       "        }    #T_c4d17bbc_d7af_11e9_bc6d_092c9c21fc0frow6_col0 {\n",
       "            background-color:  #8fb1fe;\n",
       "            color:  #000000;\n",
       "        }    #T_c4d17bbc_d7af_11e9_bc6d_092c9c21fc0frow6_col1 {\n",
       "            background-color:  #c7d7f0;\n",
       "            color:  #000000;\n",
       "        }    #T_c4d17bbc_d7af_11e9_bc6d_092c9c21fc0frow6_col2 {\n",
       "            background-color:  #7b9ff9;\n",
       "            color:  #000000;\n",
       "        }    #T_c4d17bbc_d7af_11e9_bc6d_092c9c21fc0frow6_col3 {\n",
       "            background-color:  #9abbff;\n",
       "            color:  #000000;\n",
       "        }    #T_c4d17bbc_d7af_11e9_bc6d_092c9c21fc0frow6_col4 {\n",
       "            background-color:  #7ea1fa;\n",
       "            color:  #000000;\n",
       "        }    #T_c4d17bbc_d7af_11e9_bc6d_092c9c21fc0frow6_col5 {\n",
       "            background-color:  #92b4fe;\n",
       "            color:  #000000;\n",
       "        }    #T_c4d17bbc_d7af_11e9_bc6d_092c9c21fc0frow6_col6 {\n",
       "            background-color:  #b40426;\n",
       "            color:  #f1f1f1;\n",
       "        }</style><table id=\"T_c4d17bbc_d7af_11e9_bc6d_092c9c21fc0f\" ><thead>    <tr>        <th class=\"blank level0\" ></th>        <th class=\"col_heading level0 col0\" >Pregnancies</th>        <th class=\"col_heading level0 col1\" >Glucose</th>        <th class=\"col_heading level0 col2\" >Insulin</th>        <th class=\"col_heading level0 col3\" >BMI</th>        <th class=\"col_heading level0 col4\" >DiabetesPedigreeFunction</th>        <th class=\"col_heading level0 col5\" >Age</th>        <th class=\"col_heading level0 col6\" >Outcome</th>    </tr></thead><tbody>\n",
       "                <tr>\n",
       "                        <th id=\"T_c4d17bbc_d7af_11e9_bc6d_092c9c21fc0flevel0_row0\" class=\"row_heading level0 row0\" >Pregnancies</th>\n",
       "                        <td id=\"T_c4d17bbc_d7af_11e9_bc6d_092c9c21fc0frow0_col0\" class=\"data row0 col0\" >1</td>\n",
       "                        <td id=\"T_c4d17bbc_d7af_11e9_bc6d_092c9c21fc0frow0_col1\" class=\"data row0 col1\" >0.0812595</td>\n",
       "                        <td id=\"T_c4d17bbc_d7af_11e9_bc6d_092c9c21fc0frow0_col2\" class=\"data row0 col2\" >-0.0972634</td>\n",
       "                        <td id=\"T_c4d17bbc_d7af_11e9_bc6d_092c9c21fc0frow0_col3\" class=\"data row0 col3\" >-0.00876838</td>\n",
       "                        <td id=\"T_c4d17bbc_d7af_11e9_bc6d_092c9c21fc0frow0_col4\" class=\"data row0 col4\" >-0.0442942</td>\n",
       "                        <td id=\"T_c4d17bbc_d7af_11e9_bc6d_092c9c21fc0frow0_col5\" class=\"data row0 col5\" >0.465701</td>\n",
       "                        <td id=\"T_c4d17bbc_d7af_11e9_bc6d_092c9c21fc0frow0_col6\" class=\"data row0 col6\" >0.184706</td>\n",
       "            </tr>\n",
       "            <tr>\n",
       "                        <th id=\"T_c4d17bbc_d7af_11e9_bc6d_092c9c21fc0flevel0_row1\" class=\"row_heading level0 row1\" >Glucose</th>\n",
       "                        <td id=\"T_c4d17bbc_d7af_11e9_bc6d_092c9c21fc0frow1_col0\" class=\"data row1 col0\" >0.0812595</td>\n",
       "                        <td id=\"T_c4d17bbc_d7af_11e9_bc6d_092c9c21fc0frow1_col1\" class=\"data row1 col1\" >1</td>\n",
       "                        <td id=\"T_c4d17bbc_d7af_11e9_bc6d_092c9c21fc0frow1_col2\" class=\"data row1 col2\" >0.329784</td>\n",
       "                        <td id=\"T_c4d17bbc_d7af_11e9_bc6d_092c9c21fc0frow1_col3\" class=\"data row1 col3\" >0.195371</td>\n",
       "                        <td id=\"T_c4d17bbc_d7af_11e9_bc6d_092c9c21fc0frow1_col4\" class=\"data row1 col4\" >0.124182</td>\n",
       "                        <td id=\"T_c4d17bbc_d7af_11e9_bc6d_092c9c21fc0frow1_col5\" class=\"data row1 col5\" >0.24715</td>\n",
       "                        <td id=\"T_c4d17bbc_d7af_11e9_bc6d_092c9c21fc0frow1_col6\" class=\"data row1 col6\" >0.469506</td>\n",
       "            </tr>\n",
       "            <tr>\n",
       "                        <th id=\"T_c4d17bbc_d7af_11e9_bc6d_092c9c21fc0flevel0_row2\" class=\"row_heading level0 row2\" >Insulin</th>\n",
       "                        <td id=\"T_c4d17bbc_d7af_11e9_bc6d_092c9c21fc0frow2_col0\" class=\"data row2 col0\" >-0.0972634</td>\n",
       "                        <td id=\"T_c4d17bbc_d7af_11e9_bc6d_092c9c21fc0frow2_col1\" class=\"data row2 col1\" >0.329784</td>\n",
       "                        <td id=\"T_c4d17bbc_d7af_11e9_bc6d_092c9c21fc0frow2_col2\" class=\"data row2 col2\" >1</td>\n",
       "                        <td id=\"T_c4d17bbc_d7af_11e9_bc6d_092c9c21fc0frow2_col3\" class=\"data row2 col3\" >0.191621</td>\n",
       "                        <td id=\"T_c4d17bbc_d7af_11e9_bc6d_092c9c21fc0frow2_col4\" class=\"data row2 col4\" >0.186372</td>\n",
       "                        <td id=\"T_c4d17bbc_d7af_11e9_bc6d_092c9c21fc0frow2_col5\" class=\"data row2 col5\" >-0.0558683</td>\n",
       "                        <td id=\"T_c4d17bbc_d7af_11e9_bc6d_092c9c21fc0frow2_col6\" class=\"data row2 col6\" >0.122985</td>\n",
       "            </tr>\n",
       "            <tr>\n",
       "                        <th id=\"T_c4d17bbc_d7af_11e9_bc6d_092c9c21fc0flevel0_row3\" class=\"row_heading level0 row3\" >BMI</th>\n",
       "                        <td id=\"T_c4d17bbc_d7af_11e9_bc6d_092c9c21fc0frow3_col0\" class=\"data row3 col0\" >-0.00876838</td>\n",
       "                        <td id=\"T_c4d17bbc_d7af_11e9_bc6d_092c9c21fc0frow3_col1\" class=\"data row3 col1\" >0.195371</td>\n",
       "                        <td id=\"T_c4d17bbc_d7af_11e9_bc6d_092c9c21fc0frow3_col2\" class=\"data row3 col2\" >0.191621</td>\n",
       "                        <td id=\"T_c4d17bbc_d7af_11e9_bc6d_092c9c21fc0frow3_col3\" class=\"data row3 col3\" >1</td>\n",
       "                        <td id=\"T_c4d17bbc_d7af_11e9_bc6d_092c9c21fc0frow3_col4\" class=\"data row3 col4\" >0.150249</td>\n",
       "                        <td id=\"T_c4d17bbc_d7af_11e9_bc6d_092c9c21fc0frow3_col5\" class=\"data row3 col5\" >0.0290838</td>\n",
       "                        <td id=\"T_c4d17bbc_d7af_11e9_bc6d_092c9c21fc0frow3_col6\" class=\"data row3 col6\" >0.280139</td>\n",
       "            </tr>\n",
       "            <tr>\n",
       "                        <th id=\"T_c4d17bbc_d7af_11e9_bc6d_092c9c21fc0flevel0_row4\" class=\"row_heading level0 row4\" >DiabetesPedigreeFunction</th>\n",
       "                        <td id=\"T_c4d17bbc_d7af_11e9_bc6d_092c9c21fc0frow4_col0\" class=\"data row4 col0\" >-0.0442942</td>\n",
       "                        <td id=\"T_c4d17bbc_d7af_11e9_bc6d_092c9c21fc0frow4_col1\" class=\"data row4 col1\" >0.124182</td>\n",
       "                        <td id=\"T_c4d17bbc_d7af_11e9_bc6d_092c9c21fc0frow4_col2\" class=\"data row4 col2\" >0.186372</td>\n",
       "                        <td id=\"T_c4d17bbc_d7af_11e9_bc6d_092c9c21fc0frow4_col3\" class=\"data row4 col3\" >0.150249</td>\n",
       "                        <td id=\"T_c4d17bbc_d7af_11e9_bc6d_092c9c21fc0frow4_col4\" class=\"data row4 col4\" >1</td>\n",
       "                        <td id=\"T_c4d17bbc_d7af_11e9_bc6d_092c9c21fc0frow4_col5\" class=\"data row4 col5\" >0.0394777</td>\n",
       "                        <td id=\"T_c4d17bbc_d7af_11e9_bc6d_092c9c21fc0frow4_col6\" class=\"data row4 col6\" >0.173513</td>\n",
       "            </tr>\n",
       "            <tr>\n",
       "                        <th id=\"T_c4d17bbc_d7af_11e9_bc6d_092c9c21fc0flevel0_row5\" class=\"row_heading level0 row5\" >Age</th>\n",
       "                        <td id=\"T_c4d17bbc_d7af_11e9_bc6d_092c9c21fc0frow5_col0\" class=\"data row5 col0\" >0.465701</td>\n",
       "                        <td id=\"T_c4d17bbc_d7af_11e9_bc6d_092c9c21fc0frow5_col1\" class=\"data row5 col1\" >0.24715</td>\n",
       "                        <td id=\"T_c4d17bbc_d7af_11e9_bc6d_092c9c21fc0frow5_col2\" class=\"data row5 col2\" >-0.0558683</td>\n",
       "                        <td id=\"T_c4d17bbc_d7af_11e9_bc6d_092c9c21fc0frow5_col3\" class=\"data row5 col3\" >0.0290838</td>\n",
       "                        <td id=\"T_c4d17bbc_d7af_11e9_bc6d_092c9c21fc0frow5_col4\" class=\"data row5 col4\" >0.0394777</td>\n",
       "                        <td id=\"T_c4d17bbc_d7af_11e9_bc6d_092c9c21fc0frow5_col5\" class=\"data row5 col5\" >1</td>\n",
       "                        <td id=\"T_c4d17bbc_d7af_11e9_bc6d_092c9c21fc0frow5_col6\" class=\"data row5 col6\" >0.221909</td>\n",
       "            </tr>\n",
       "            <tr>\n",
       "                        <th id=\"T_c4d17bbc_d7af_11e9_bc6d_092c9c21fc0flevel0_row6\" class=\"row_heading level0 row6\" >Outcome</th>\n",
       "                        <td id=\"T_c4d17bbc_d7af_11e9_bc6d_092c9c21fc0frow6_col0\" class=\"data row6 col0\" >0.184706</td>\n",
       "                        <td id=\"T_c4d17bbc_d7af_11e9_bc6d_092c9c21fc0frow6_col1\" class=\"data row6 col1\" >0.469506</td>\n",
       "                        <td id=\"T_c4d17bbc_d7af_11e9_bc6d_092c9c21fc0frow6_col2\" class=\"data row6 col2\" >0.122985</td>\n",
       "                        <td id=\"T_c4d17bbc_d7af_11e9_bc6d_092c9c21fc0frow6_col3\" class=\"data row6 col3\" >0.280139</td>\n",
       "                        <td id=\"T_c4d17bbc_d7af_11e9_bc6d_092c9c21fc0frow6_col4\" class=\"data row6 col4\" >0.173513</td>\n",
       "                        <td id=\"T_c4d17bbc_d7af_11e9_bc6d_092c9c21fc0frow6_col5\" class=\"data row6 col5\" >0.221909</td>\n",
       "                        <td id=\"T_c4d17bbc_d7af_11e9_bc6d_092c9c21fc0frow6_col6\" class=\"data row6 col6\" >1</td>\n",
       "            </tr>\n",
       "    </tbody></table>"
      ],
      "text/plain": [
       "<pandas.io.formats.style.Styler at 0x7f8517433ba8>"
      ]
     },
     "execution_count": 393,
     "metadata": {},
     "output_type": "execute_result"
    }
   ],
   "source": [
    "## Co-relation matrix\n",
    "\n",
    "corr = df.corr()\n",
    "corr.style.background_gradient(cmap='coolwarm')"
   ]
  },
  {
   "cell_type": "code",
   "execution_count": 428,
   "metadata": {},
   "outputs": [
    {
     "name": "stdout",
     "output_type": "stream",
     "text": [
      "(752, 6)\n",
      "(451, 6)\n",
      "(301, 6)\n"
     ]
    }
   ],
   "source": [
    "## Splitting dataset into train and test\n",
    "\n",
    "from sklearn.model_selection import train_test_split\n",
    "x_train, x_test, y_train , y_test = train_test_split(x,y, test_size = 0.4,random_state=8)\n",
    "print(x.shape)\n",
    "print(x_train.shape)\n",
    "print(x_test.shape)"
   ]
  },
  {
   "cell_type": "code",
   "execution_count": 429,
   "metadata": {},
   "outputs": [],
   "source": [
    "## Standardizing the input to be fed into PCA\n",
    "\n",
    "from sklearn.preprocessing import StandardScaler\n",
    "x_train = StandardScaler().fit_transform(x_train)\n",
    "x_test = StandardScaler().fit_transform(x_test)"
   ]
  },
  {
   "cell_type": "code",
   "execution_count": 430,
   "metadata": {},
   "outputs": [],
   "source": [
    "## PCA on train data\n",
    "\n",
    "from sklearn.decomposition import PCA\n",
    "\n",
    "pca = PCA(n_components=0.95)\n",
    "principalComponents = pca.fit_transform(x_train)\n",
    "x_train = pd.DataFrame(data = principalComponents)"
   ]
  },
  {
   "cell_type": "code",
   "execution_count": 431,
   "metadata": {},
   "outputs": [],
   "source": [
    "## PCA on test data\n",
    "\n",
    "pca = PCA(n_components=0.95)\n",
    "principalComponents = pca.fit_transform(x_test)\n",
    "x_test = pd.DataFrame(data = principalComponents)"
   ]
  },
  {
   "cell_type": "code",
   "execution_count": 432,
   "metadata": {},
   "outputs": [
    {
     "name": "stdout",
     "output_type": "stream",
     "text": [
      "Training set score: 0.765\n",
      "Test set score: 0.777\n"
     ]
    },
    {
     "name": "stderr",
     "output_type": "stream",
     "text": [
      "/home/lami/anaconda3/lib/python3.7/site-packages/sklearn/linear_model/logistic.py:432: FutureWarning: Default solver will be changed to 'lbfgs' in 0.22. Specify a solver to silence this warning.\n",
      "  FutureWarning)\n",
      "/home/lami/anaconda3/lib/python3.7/site-packages/sklearn/utils/validation.py:724: DataConversionWarning: A column-vector y was passed when a 1d array was expected. Please change the shape of y to (n_samples, ), for example using ravel().\n",
      "  y = column_or_1d(y, warn=True)\n"
     ]
    }
   ],
   "source": [
    "## MODEL2\n",
    "\n",
    "from sklearn.linear_model import LogisticRegression\n",
    "logreg = LogisticRegression().fit(x_train, y_train)\n",
    "print(\"Training set score: {:.3f}\".format(logreg.score(x_train, y_train)))\n",
    "print(\"Test set score: {:.3f}\".format(logreg.score(x_test, y_test)))"
   ]
  },
  {
   "cell_type": "code",
   "execution_count": 433,
   "metadata": {},
   "outputs": [
    {
     "data": {
      "text/plain": [
       "array([[175,  24],\n",
       "       [ 43,  59]])"
      ]
     },
     "execution_count": 433,
     "metadata": {},
     "output_type": "execute_result"
    }
   ],
   "source": [
    "## CONFUSION MATRIX\n",
    "\n",
    "from sklearn.metrics import confusion_matrix\n",
    "y_predicted = logreg.predict(x_test)\n",
    "cm = confusion_matrix(y_test, y_predicted)\n",
    "cm"
   ]
  },
  {
   "cell_type": "code",
   "execution_count": 434,
   "metadata": {},
   "outputs": [
    {
     "name": "stdout",
     "output_type": "stream",
     "text": [
      "              precision    recall  f1-score   support\n",
      "\n",
      "           0       0.80      0.88      0.84       199\n",
      "           1       0.71      0.58      0.64       102\n",
      "\n",
      "    accuracy                           0.78       301\n",
      "   macro avg       0.76      0.73      0.74       301\n",
      "weighted avg       0.77      0.78      0.77       301\n",
      "\n"
     ]
    }
   ],
   "source": [
    "## CLASSIFICATION REPORT\n",
    "\n",
    "from sklearn.metrics import classification_report\n",
    "report = classification_report(y_test, y_predicted)\n",
    "print(report)"
   ]
  },
  {
   "cell_type": "code",
   "execution_count": null,
   "metadata": {},
   "outputs": [],
   "source": []
  }
 ],
 "metadata": {
  "kernelspec": {
   "display_name": "Python 3",
   "language": "python",
   "name": "python3"
  },
  "language_info": {
   "codemirror_mode": {
    "name": "ipython",
    "version": 3
   },
   "file_extension": ".py",
   "mimetype": "text/x-python",
   "name": "python",
   "nbconvert_exporter": "python",
   "pygments_lexer": "ipython3",
   "version": "3.7.4"
  }
 },
 "nbformat": 4,
 "nbformat_minor": 2
}
