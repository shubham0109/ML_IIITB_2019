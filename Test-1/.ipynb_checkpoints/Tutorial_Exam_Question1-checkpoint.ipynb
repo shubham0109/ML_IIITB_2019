{
 "cells": [
  {
   "cell_type": "markdown",
   "metadata": {},
   "source": [
    "### Instructions:\n",
    "\n",
    "    1. Submit your python notebooks in zip format with naming convention as:\n",
    "        \n",
    "            RollNo1_RollNo2_RollNo3.zip\n",
    "            \n",
    "    2. Cheating of any form will not be tolerated."
   ]
  },
  {
   "cell_type": "markdown",
   "metadata": {},
   "source": [
    "Fill your Team details here.<br>\n",
    "<br>\n",
    "Format: Roll Number\n",
    " \n",
    "         1.\n",
    "         2.\n",
    "         3."
   ]
  },
  {
   "cell_type": "markdown",
   "metadata": {},
   "source": [
    "# Problem statement is to predict price column based on data with 24 Columns with over 200 data entries using Linear Regression."
   ]
  },
  {
   "cell_type": "code",
   "execution_count": null,
   "metadata": {},
   "outputs": [],
   "source": [
    "#import required libraries\n",
    "\n"
   ]
  },
  {
   "cell_type": "code",
   "execution_count": null,
   "metadata": {},
   "outputs": [],
   "source": [
    "#Read data(\"Data.csv\") into dataframe\n",
    "\n",
    "#read df in X\n",
    "X=\n",
    "#Copy Target(column to be predicted) in Y\n",
    "Y=\n",
    "#drop target from X, now X is input data\n",
    "X=\n",
    "\n"
   ]
  },
  {
   "cell_type": "code",
   "execution_count": null,
   "metadata": {},
   "outputs": [],
   "source": [
    "#Check for null values in X and Y\n",
    "\n",
    "\n",
    "\n",
    "#what did you observe?\n",
    "#ans:-"
   ]
  },
  {
   "cell_type": "code",
   "execution_count": null,
   "metadata": {},
   "outputs": [],
   "source": [
    "#Check if scaling and encoding are required in X\n",
    "\n",
    "\n",
    "#is it required or not?\n",
    "#ans:-"
   ]
  },
  {
   "cell_type": "code",
   "execution_count": null,
   "metadata": {},
   "outputs": [],
   "source": [
    "#Plot relationships between the target variable and any 7 features using pair plot,scatter plot,matrix heatmap\n",
    "\n",
    "#What did you observe?\n",
    "#ans:-"
   ]
  },
  {
   "cell_type": "code",
   "execution_count": null,
   "metadata": {},
   "outputs": [],
   "source": [
    "cleanup_nums = {\"doornumber\":     {\"four\": 4, \"two\": 2},\n",
    "                \"cylindernumber\": {\"four\": 4, \"six\": 6, \"five\": 5, \"eight\": 8,\n",
    "                                  \"two\": 2, \"twelve\": 12, \"three\":3 }}\n",
    "X.replace(cleanup_nums, inplace=True)\n",
    "\n",
    "\n",
    "Cat=X.select_dtypes(include=['object']).copy(deep='False')\n",
    "\n",
    "\n",
    "Cat=Cat.iloc[:, :].apply(pd.Series)\n",
    "Name=Cat.CarName.copy()\n",
    "\n",
    "\n",
    "Temp=[]\n",
    "Temp=Name.str.split(pat=\" \",expand=True)\n",
    "Temp=Temp[0]\n",
    "X.CarName=Temp\n",
    "Cat.CarName=Temp\n",
    "\n",
    "\n",
    "cleanup_nums = {\"CarName\":     { \"maxda\": \"mazda\" , \"porcshce\": \"porsche\" , \"Nissan\":\"nissan\" , \"vokswagen\":\"volkswagen\", \"toyouta\" : \"toyota\",\"vw\" : \"volkswagen\"} }\n",
    "X.replace(cleanup_nums, inplace=True)"
   ]
  },
  {
   "cell_type": "code",
   "execution_count": null,
   "metadata": {},
   "outputs": [],
   "source": [
    "#check if One hot encoding is required? if yes do it.\n",
    "\n"
   ]
  },
  {
   "cell_type": "code",
   "execution_count": null,
   "metadata": {},
   "outputs": [],
   "source": [
    "#Scale the Dataset\n",
    "\n"
   ]
  },
  {
   "cell_type": "code",
   "execution_count": null,
   "metadata": {},
   "outputs": [],
   "source": [
    "#Splitting data into test and train - 30% Test and 70% Train\n",
    "\n"
   ]
  },
  {
   "cell_type": "code",
   "execution_count": null,
   "metadata": {},
   "outputs": [],
   "source": [
    "#Find correlation coeff using linear regression.\n",
    "\n"
   ]
  },
  {
   "cell_type": "code",
   "execution_count": null,
   "metadata": {},
   "outputs": [],
   "source": [
    "# Print The coefficients\n",
    "\n",
    "#What did you observe looking at the coeffients, Describe your observation in atleast 30 words?\n",
    "#ans:-"
   ]
  },
  {
   "cell_type": "code",
   "execution_count": null,
   "metadata": {},
   "outputs": [],
   "source": []
  }
 ],
 "metadata": {
  "kernelspec": {
   "display_name": "Python 3",
   "language": "python",
   "name": "python3"
  },
  "language_info": {
   "codemirror_mode": {
    "name": "ipython",
    "version": 3
   },
   "file_extension": ".py",
   "mimetype": "text/x-python",
   "name": "python",
   "nbconvert_exporter": "python",
   "pygments_lexer": "ipython3",
   "version": "3.5.2"
  }
 },
 "nbformat": 4,
 "nbformat_minor": 2
}
